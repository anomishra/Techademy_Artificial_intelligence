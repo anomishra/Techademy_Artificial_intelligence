{
  "nbformat": 4,
  "nbformat_minor": 0,
  "metadata": {
    "colab": {
      "name": "Techademy_deep_learning.ipynb",
      "provenance": [],
      "collapsed_sections": [],
      "authorship_tag": "ABX9TyN1wDOx4GQRQScUfgXAJ8r9",
      "include_colab_link": true
    },
    "kernelspec": {
      "name": "python3",
      "display_name": "Python 3"
    }
  },
  "cells": [
    {
      "cell_type": "markdown",
      "metadata": {
        "id": "view-in-github",
        "colab_type": "text"
      },
      "source": [
        "<a href=\"https://colab.research.google.com/github/anomishra/Techademy_Artificial_intelligence/blob/master/Techademy_deep_learning.ipynb\" target=\"_parent\"><img src=\"https://colab.research.google.com/assets/colab-badge.svg\" alt=\"Open In Colab\"/></a>"
      ]
    },
    {
      "cell_type": "code",
      "metadata": {
        "id": "yDRt-8rUcpEl",
        "colab_type": "code",
        "colab": {}
      },
      "source": [
        "# first neural network with keras tutorial\n",
        "from keras.models import Sequential\n",
        "from keras.layers import Dense\n",
        "\n",
        "import pandas as pd\n",
        "import numpy as np "
      ],
      "execution_count": 27,
      "outputs": []
    },
    {
      "cell_type": "code",
      "metadata": {
        "id": "5Khz4NKReDHx",
        "colab_type": "code",
        "colab": {
          "base_uri": "https://localhost:8080/",
          "height": 218
        },
        "outputId": "70dba0fc-7e86-4cde-affc-36af880bf45d"
      },
      "source": [
        "data = pd.read_csv(\"diabetes.csv\")\n",
        "data.head()"
      ],
      "execution_count": null,
      "outputs": [
        {
          "output_type": "execute_result",
          "data": {
            "text/html": [
              "<div>\n",
              "<style scoped>\n",
              "    .dataframe tbody tr th:only-of-type {\n",
              "        vertical-align: middle;\n",
              "    }\n",
              "\n",
              "    .dataframe tbody tr th {\n",
              "        vertical-align: top;\n",
              "    }\n",
              "\n",
              "    .dataframe thead th {\n",
              "        text-align: right;\n",
              "    }\n",
              "</style>\n",
              "<table border=\"1\" class=\"dataframe\">\n",
              "  <thead>\n",
              "    <tr style=\"text-align: right;\">\n",
              "      <th></th>\n",
              "      <th>Pregnancies</th>\n",
              "      <th>Glucose</th>\n",
              "      <th>BloodPressure</th>\n",
              "      <th>SkinThickness</th>\n",
              "      <th>Insulin</th>\n",
              "      <th>BMI</th>\n",
              "      <th>DiabetesPedigreeFunction</th>\n",
              "      <th>Age</th>\n",
              "      <th>Outcome</th>\n",
              "    </tr>\n",
              "  </thead>\n",
              "  <tbody>\n",
              "    <tr>\n",
              "      <th>0</th>\n",
              "      <td>6</td>\n",
              "      <td>148</td>\n",
              "      <td>72</td>\n",
              "      <td>35</td>\n",
              "      <td>0</td>\n",
              "      <td>33.6</td>\n",
              "      <td>0.627</td>\n",
              "      <td>50</td>\n",
              "      <td>1</td>\n",
              "    </tr>\n",
              "    <tr>\n",
              "      <th>1</th>\n",
              "      <td>1</td>\n",
              "      <td>85</td>\n",
              "      <td>66</td>\n",
              "      <td>29</td>\n",
              "      <td>0</td>\n",
              "      <td>26.6</td>\n",
              "      <td>0.351</td>\n",
              "      <td>31</td>\n",
              "      <td>0</td>\n",
              "    </tr>\n",
              "    <tr>\n",
              "      <th>2</th>\n",
              "      <td>8</td>\n",
              "      <td>183</td>\n",
              "      <td>64</td>\n",
              "      <td>0</td>\n",
              "      <td>0</td>\n",
              "      <td>23.3</td>\n",
              "      <td>0.672</td>\n",
              "      <td>32</td>\n",
              "      <td>1</td>\n",
              "    </tr>\n",
              "    <tr>\n",
              "      <th>3</th>\n",
              "      <td>1</td>\n",
              "      <td>89</td>\n",
              "      <td>66</td>\n",
              "      <td>23</td>\n",
              "      <td>94</td>\n",
              "      <td>28.1</td>\n",
              "      <td>0.167</td>\n",
              "      <td>21</td>\n",
              "      <td>0</td>\n",
              "    </tr>\n",
              "    <tr>\n",
              "      <th>4</th>\n",
              "      <td>0</td>\n",
              "      <td>137</td>\n",
              "      <td>40</td>\n",
              "      <td>35</td>\n",
              "      <td>168</td>\n",
              "      <td>43.1</td>\n",
              "      <td>2.288</td>\n",
              "      <td>33</td>\n",
              "      <td>1</td>\n",
              "    </tr>\n",
              "  </tbody>\n",
              "</table>\n",
              "</div>"
            ],
            "text/plain": [
              "   Pregnancies  Glucose  BloodPressure  ...  DiabetesPedigreeFunction  Age  Outcome\n",
              "0            6      148             72  ...                     0.627   50        1\n",
              "1            1       85             66  ...                     0.351   31        0\n",
              "2            8      183             64  ...                     0.672   32        1\n",
              "3            1       89             66  ...                     0.167   21        0\n",
              "4            0      137             40  ...                     2.288   33        1\n",
              "\n",
              "[5 rows x 9 columns]"
            ]
          },
          "metadata": {
            "tags": []
          },
          "execution_count": 2
        }
      ]
    },
    {
      "cell_type": "code",
      "metadata": {
        "id": "a5kGlIxIzwvN",
        "colab_type": "code",
        "colab": {
          "base_uri": "https://localhost:8080/",
          "height": 316
        },
        "outputId": "184d6713-87cb-46b9-f620-fb2412c0ca4f"
      },
      "source": [
        "data.describe()"
      ],
      "execution_count": 31,
      "outputs": [
        {
          "output_type": "execute_result",
          "data": {
            "text/html": [
              "<div>\n",
              "<style scoped>\n",
              "    .dataframe tbody tr th:only-of-type {\n",
              "        vertical-align: middle;\n",
              "    }\n",
              "\n",
              "    .dataframe tbody tr th {\n",
              "        vertical-align: top;\n",
              "    }\n",
              "\n",
              "    .dataframe thead th {\n",
              "        text-align: right;\n",
              "    }\n",
              "</style>\n",
              "<table border=\"1\" class=\"dataframe\">\n",
              "  <thead>\n",
              "    <tr style=\"text-align: right;\">\n",
              "      <th></th>\n",
              "      <th>Pregnancies</th>\n",
              "      <th>Glucose</th>\n",
              "      <th>BloodPressure</th>\n",
              "      <th>SkinThickness</th>\n",
              "      <th>Insulin</th>\n",
              "      <th>BMI</th>\n",
              "      <th>DiabetesPedigreeFunction</th>\n",
              "      <th>Age</th>\n",
              "      <th>Outcome</th>\n",
              "    </tr>\n",
              "  </thead>\n",
              "  <tbody>\n",
              "    <tr>\n",
              "      <th>count</th>\n",
              "      <td>768.000000</td>\n",
              "      <td>768.000000</td>\n",
              "      <td>768.000000</td>\n",
              "      <td>768.000000</td>\n",
              "      <td>768.000000</td>\n",
              "      <td>768.000000</td>\n",
              "      <td>768.000000</td>\n",
              "      <td>768.000000</td>\n",
              "      <td>768.000000</td>\n",
              "    </tr>\n",
              "    <tr>\n",
              "      <th>mean</th>\n",
              "      <td>3.845052</td>\n",
              "      <td>120.894531</td>\n",
              "      <td>69.105469</td>\n",
              "      <td>20.536458</td>\n",
              "      <td>79.799479</td>\n",
              "      <td>31.992578</td>\n",
              "      <td>0.471876</td>\n",
              "      <td>33.240885</td>\n",
              "      <td>0.348958</td>\n",
              "    </tr>\n",
              "    <tr>\n",
              "      <th>std</th>\n",
              "      <td>3.369578</td>\n",
              "      <td>31.972618</td>\n",
              "      <td>19.355807</td>\n",
              "      <td>15.952218</td>\n",
              "      <td>115.244002</td>\n",
              "      <td>7.884160</td>\n",
              "      <td>0.331329</td>\n",
              "      <td>11.760232</td>\n",
              "      <td>0.476951</td>\n",
              "    </tr>\n",
              "    <tr>\n",
              "      <th>min</th>\n",
              "      <td>0.000000</td>\n",
              "      <td>0.000000</td>\n",
              "      <td>0.000000</td>\n",
              "      <td>0.000000</td>\n",
              "      <td>0.000000</td>\n",
              "      <td>0.000000</td>\n",
              "      <td>0.078000</td>\n",
              "      <td>21.000000</td>\n",
              "      <td>0.000000</td>\n",
              "    </tr>\n",
              "    <tr>\n",
              "      <th>25%</th>\n",
              "      <td>1.000000</td>\n",
              "      <td>99.000000</td>\n",
              "      <td>62.000000</td>\n",
              "      <td>0.000000</td>\n",
              "      <td>0.000000</td>\n",
              "      <td>27.300000</td>\n",
              "      <td>0.243750</td>\n",
              "      <td>24.000000</td>\n",
              "      <td>0.000000</td>\n",
              "    </tr>\n",
              "    <tr>\n",
              "      <th>50%</th>\n",
              "      <td>3.000000</td>\n",
              "      <td>117.000000</td>\n",
              "      <td>72.000000</td>\n",
              "      <td>23.000000</td>\n",
              "      <td>30.500000</td>\n",
              "      <td>32.000000</td>\n",
              "      <td>0.372500</td>\n",
              "      <td>29.000000</td>\n",
              "      <td>0.000000</td>\n",
              "    </tr>\n",
              "    <tr>\n",
              "      <th>75%</th>\n",
              "      <td>6.000000</td>\n",
              "      <td>140.250000</td>\n",
              "      <td>80.000000</td>\n",
              "      <td>32.000000</td>\n",
              "      <td>127.250000</td>\n",
              "      <td>36.600000</td>\n",
              "      <td>0.626250</td>\n",
              "      <td>41.000000</td>\n",
              "      <td>1.000000</td>\n",
              "    </tr>\n",
              "    <tr>\n",
              "      <th>max</th>\n",
              "      <td>17.000000</td>\n",
              "      <td>199.000000</td>\n",
              "      <td>122.000000</td>\n",
              "      <td>99.000000</td>\n",
              "      <td>846.000000</td>\n",
              "      <td>67.100000</td>\n",
              "      <td>2.420000</td>\n",
              "      <td>81.000000</td>\n",
              "      <td>1.000000</td>\n",
              "    </tr>\n",
              "  </tbody>\n",
              "</table>\n",
              "</div>"
            ],
            "text/plain": [
              "       Pregnancies     Glucose  ...         Age     Outcome\n",
              "count   768.000000  768.000000  ...  768.000000  768.000000\n",
              "mean      3.845052  120.894531  ...   33.240885    0.348958\n",
              "std       3.369578   31.972618  ...   11.760232    0.476951\n",
              "min       0.000000    0.000000  ...   21.000000    0.000000\n",
              "25%       1.000000   99.000000  ...   24.000000    0.000000\n",
              "50%       3.000000  117.000000  ...   29.000000    0.000000\n",
              "75%       6.000000  140.250000  ...   41.000000    1.000000\n",
              "max      17.000000  199.000000  ...   81.000000    1.000000\n",
              "\n",
              "[8 rows x 9 columns]"
            ]
          },
          "metadata": {
            "tags": []
          },
          "execution_count": 31
        }
      ]
    },
    {
      "cell_type": "code",
      "metadata": {
        "id": "qPH_YZ_Hz0i5",
        "colab_type": "code",
        "colab": {
          "base_uri": "https://localhost:8080/",
          "height": 189
        },
        "outputId": "db033c8b-c3d2-4478-97c6-3573a79b9ac6"
      },
      "source": [
        "data.dtypes"
      ],
      "execution_count": 32,
      "outputs": [
        {
          "output_type": "execute_result",
          "data": {
            "text/plain": [
              "Pregnancies                   int64\n",
              "Glucose                       int64\n",
              "BloodPressure                 int64\n",
              "SkinThickness                 int64\n",
              "Insulin                       int64\n",
              "BMI                         float64\n",
              "DiabetesPedigreeFunction    float64\n",
              "Age                           int64\n",
              "Outcome                       int64\n",
              "dtype: object"
            ]
          },
          "metadata": {
            "tags": []
          },
          "execution_count": 32
        }
      ]
    },
    {
      "cell_type": "markdown",
      "metadata": {
        "id": "mnBAD5-9je1b",
        "colab_type": "text"
      },
      "source": [
        "##Machine Learning Implementation##"
      ]
    },
    {
      "cell_type": "code",
      "metadata": {
        "id": "tfwIzkZsh_sZ",
        "colab_type": "code",
        "colab": {}
      },
      "source": [
        "\n",
        "x = np.asarray(data[['Glucose', 'BloodPressure', 'BMI', 'DiabetesPedigreeFunction']]) # independent variable/features\n",
        "y = np.asarray(data['Outcome']) # dependent variable (lab\n",
        "\n",
        "from sklearn.model_selection import train_test_split\n",
        "x_train, x_test, Y_train, Y_test = train_test_split(x, y, test_size=0.20, random_state=42)"
      ],
      "execution_count": 28,
      "outputs": []
    },
    {
      "cell_type": "code",
      "metadata": {
        "id": "IaQBJ_Q7i8EO",
        "colab_type": "code",
        "colab": {
          "base_uri": "https://localhost:8080/",
          "height": 103
        },
        "outputId": "d8ee6543-b4b3-473e-8e0a-733907dfd053"
      },
      "source": [
        "# developing ML model: Training\n",
        "from sklearn.linear_model import LogisticRegression\n",
        "from sklearn.metrics import confusion_matrix\n",
        "\n",
        "model = LogisticRegression(C=0.01, solver='liblinear').fit(x_train,Y_train)\n",
        "model"
      ],
      "execution_count": 29,
      "outputs": [
        {
          "output_type": "execute_result",
          "data": {
            "text/plain": [
              "LogisticRegression(C=0.01, class_weight=None, dual=False, fit_intercept=True,\n",
              "                   intercept_scaling=1, l1_ratio=None, max_iter=100,\n",
              "                   multi_class='auto', n_jobs=None, penalty='l2',\n",
              "                   random_state=None, solver='liblinear', tol=0.0001, verbose=0,\n",
              "                   warm_start=False)"
            ]
          },
          "metadata": {
            "tags": []
          },
          "execution_count": 29
        }
      ]
    },
    {
      "cell_type": "code",
      "metadata": {
        "id": "MZKinG2HjDF3",
        "colab_type": "code",
        "colab": {
          "base_uri": "https://localhost:8080/",
          "height": 172
        },
        "outputId": "5ddb372c-6338-4692-c7f1-d0ac13bf2ace"
      },
      "source": [
        "Ypred = model.predict(x_test)\n",
        "\n",
        "from sklearn.metrics import classification_report\n",
        "target_names = ['0','1']\n",
        "print(classification_report(y_test, Ypred, target_names=target_names))"
      ],
      "execution_count": 30,
      "outputs": [
        {
          "output_type": "stream",
          "text": [
            "              precision    recall  f1-score   support\n",
            "\n",
            "           0       0.70      0.89      0.79        99\n",
            "           1       0.62      0.33      0.43        55\n",
            "\n",
            "    accuracy                           0.69       154\n",
            "   macro avg       0.66      0.61      0.61       154\n",
            "weighted avg       0.67      0.69      0.66       154\n",
            "\n"
          ],
          "name": "stdout"
        }
      ]
    },
    {
      "cell_type": "markdown",
      "metadata": {
        "id": "juSZipWbjY3L",
        "colab_type": "text"
      },
      "source": [
        "##Deep Learning: Neural Network Implementation##"
      ]
    },
    {
      "cell_type": "code",
      "metadata": {
        "id": "R4d2ipkZemon",
        "colab_type": "code",
        "colab": {}
      },
      "source": [
        "#precprocessing the data\n",
        "\n",
        "Y_data = data['Outcome']\n",
        "#Y_data\n",
        "\n",
        "X_data = data.drop('Outcome', axis = 1) # excluding the output variable from the dataset\n",
        "\n",
        "#call the entire column\n",
        "#data.loc[:,'Column_name']\n",
        "\n",
        "#changing the datasets into arrays\n",
        "X_data = np.array(X_data)\n",
        "Y_data = np.array(Y_data)"
      ],
      "execution_count": 34,
      "outputs": []
    },
    {
      "cell_type": "code",
      "metadata": {
        "id": "pRssj1Yafn90",
        "colab_type": "code",
        "colab": {}
      },
      "source": [
        "from sklearn.model_selection import train_test_split\n",
        "X_train, X_test, y_train, y_test = train_test_split(X_data, Y_data, test_size=0.20, random_state=42)"
      ],
      "execution_count": 35,
      "outputs": []
    },
    {
      "cell_type": "markdown",
      "metadata": {
        "id": "VOLvPb7jdIsa",
        "colab_type": "text"
      },
      "source": [
        "as first layer in a sequential model:</br>\n",
        "model = Sequential()</br>\n",
        "model.add(Dense(32, input_shape=(16,)))</br>\n",
        "now the model will take as input arrays of shape </br>(*, 16) and output arrays of shape (*, 32)"
      ]
    },
    {
      "cell_type": "code",
      "metadata": {
        "id": "wavkJEQAfqkL",
        "colab_type": "code",
        "colab": {}
      },
      "source": [
        "# define the keras model\n",
        "model1 = Sequential()\n",
        "model1.add(Dense(12, input_dim=8, activation='relu')) # 8 variables, hence 8 input data pipes\n",
        "model1.add(Dense(8, activation='relu')) # 1 hidden layer\n",
        "model1.add(Dense(1, activation='sigmoid')) # 1 output pipe yes/no"
      ],
      "execution_count": null,
      "outputs": []
    },
    {
      "cell_type": "code",
      "metadata": {
        "id": "HfTG-LfIiKYC",
        "colab_type": "code",
        "colab": {
          "base_uri": "https://localhost:8080/",
          "height": 258
        },
        "outputId": "7fb5486c-8c37-4946-a682-6d1a6a345632"
      },
      "source": [
        "model1.summary()"
      ],
      "execution_count": 36,
      "outputs": [
        {
          "output_type": "stream",
          "text": [
            "Model: \"sequential_2\"\n",
            "_________________________________________________________________\n",
            "Layer (type)                 Output Shape              Param #   \n",
            "=================================================================\n",
            "dense_4 (Dense)              (None, 12)                108       \n",
            "_________________________________________________________________\n",
            "dense_5 (Dense)              (None, 8)                 104       \n",
            "_________________________________________________________________\n",
            "dense_6 (Dense)              (None, 1)                 9         \n",
            "=================================================================\n",
            "Total params: 221\n",
            "Trainable params: 221\n",
            "Non-trainable params: 0\n",
            "_________________________________________________________________\n"
          ],
          "name": "stdout"
        }
      ]
    },
    {
      "cell_type": "markdown",
      "metadata": {
        "id": "TQ7rx6MUf66J",
        "colab_type": "text"
      },
      "source": [
        "Compiling the model means that the model automatically chooses the best way to represent the network for training and making predictions to run on your hardware. </br> </br> \n",
        "When compiling, we must specify some additional properties required when training the network. Remember training a network means finding the best set of weights to map inputs to outputs in our dataset."
      ]
    },
    {
      "cell_type": "code",
      "metadata": {
        "id": "IRysuVBlfvgr",
        "colab_type": "code",
        "colab": {}
      },
      "source": [
        "# compile the keras model\n",
        "model1.compile(loss='binary_crossentropy', optimizer='adam', metrics=['accuracy'])"
      ],
      "execution_count": 37,
      "outputs": []
    },
    {
      "cell_type": "markdown",
      "metadata": {
        "id": "Pzhorw8RgYMH",
        "colab_type": "text"
      },
      "source": [
        "1. Training occurs over epochs and each epoch is split into batches.\n",
        "\n",
        "2. Epoch: One pass through all of the rows in the training dataset. </br>\n",
        "3. Batch: One or more samples considered by the model within an epoch before weights are updated.\n",
        "One epoch is comprised of one or more batches, based on the chosen batch size and the model is fit for many epochs. </br>\n",
        "4.The training process will run for a fixed number of iterations through the dataset called epochs, that we must specify using the epochs argument. We must also set the number of dataset rows that are considered before the model weights are updated within each epoch, called the batch size and set using the batch_size argument.</br>\n",
        "5. This process is a trial and error. The goal is to train the model so that it learns proper mapping of inpput and output.\n",
        "\n"
      ]
    },
    {
      "cell_type": "code",
      "metadata": {
        "id": "n1vqRCuof3UD",
        "colab_type": "code",
        "colab": {
          "base_uri": "https://localhost:8080/",
          "height": 1000
        },
        "outputId": "b7349fbf-6a6b-46e6-8572-87c2e6bfee96"
      },
      "source": [
        "# fit the keras model on the dataset\n",
        "model1.fit(X_train, y_train, epochs=100, batch_size=10)"
      ],
      "execution_count": 39,
      "outputs": [
        {
          "output_type": "stream",
          "text": [
            "Epoch 1/100\n",
            "614/614 [==============================] - 0s 131us/step - loss: 0.3879 - accuracy: 0.8225\n",
            "Epoch 2/100\n",
            "614/614 [==============================] - 0s 118us/step - loss: 0.3841 - accuracy: 0.8306\n",
            "Epoch 3/100\n",
            "614/614 [==============================] - 0s 142us/step - loss: 0.4119 - accuracy: 0.8208\n",
            "Epoch 4/100\n",
            "614/614 [==============================] - 0s 128us/step - loss: 0.3844 - accuracy: 0.8420\n",
            "Epoch 5/100\n",
            "614/614 [==============================] - 0s 131us/step - loss: 0.3862 - accuracy: 0.8322\n",
            "Epoch 6/100\n",
            "614/614 [==============================] - 0s 134us/step - loss: 0.3904 - accuracy: 0.8274\n",
            "Epoch 7/100\n",
            "614/614 [==============================] - 0s 120us/step - loss: 0.3994 - accuracy: 0.8127\n",
            "Epoch 8/100\n",
            "614/614 [==============================] - 0s 118us/step - loss: 0.3878 - accuracy: 0.8404\n",
            "Epoch 9/100\n",
            "614/614 [==============================] - 0s 126us/step - loss: 0.3859 - accuracy: 0.8290\n",
            "Epoch 10/100\n",
            "614/614 [==============================] - 0s 126us/step - loss: 0.3875 - accuracy: 0.8208\n",
            "Epoch 11/100\n",
            "614/614 [==============================] - 0s 128us/step - loss: 0.3878 - accuracy: 0.8176\n",
            "Epoch 12/100\n",
            "614/614 [==============================] - 0s 120us/step - loss: 0.3853 - accuracy: 0.8143\n",
            "Epoch 13/100\n",
            "614/614 [==============================] - 0s 124us/step - loss: 0.3923 - accuracy: 0.8143\n",
            "Epoch 14/100\n",
            "614/614 [==============================] - 0s 118us/step - loss: 0.3955 - accuracy: 0.8290\n",
            "Epoch 15/100\n",
            "614/614 [==============================] - 0s 131us/step - loss: 0.3934 - accuracy: 0.8257\n",
            "Epoch 16/100\n",
            "614/614 [==============================] - 0s 133us/step - loss: 0.3879 - accuracy: 0.8322\n",
            "Epoch 17/100\n",
            "614/614 [==============================] - 0s 116us/step - loss: 0.3852 - accuracy: 0.8241\n",
            "Epoch 18/100\n",
            "614/614 [==============================] - 0s 122us/step - loss: 0.3990 - accuracy: 0.8176\n",
            "Epoch 19/100\n",
            "614/614 [==============================] - 0s 123us/step - loss: 0.3922 - accuracy: 0.8257\n",
            "Epoch 20/100\n",
            "614/614 [==============================] - 0s 118us/step - loss: 0.3797 - accuracy: 0.8290\n",
            "Epoch 21/100\n",
            "614/614 [==============================] - 0s 129us/step - loss: 0.3882 - accuracy: 0.8225\n",
            "Epoch 22/100\n",
            "614/614 [==============================] - 0s 119us/step - loss: 0.3861 - accuracy: 0.8208\n",
            "Epoch 23/100\n",
            "614/614 [==============================] - 0s 118us/step - loss: 0.3868 - accuracy: 0.8257\n",
            "Epoch 24/100\n",
            "614/614 [==============================] - 0s 134us/step - loss: 0.3841 - accuracy: 0.8290\n",
            "Epoch 25/100\n",
            "614/614 [==============================] - 0s 118us/step - loss: 0.3835 - accuracy: 0.8371\n",
            "Epoch 26/100\n",
            "614/614 [==============================] - 0s 123us/step - loss: 0.3993 - accuracy: 0.8208\n",
            "Epoch 27/100\n",
            "614/614 [==============================] - 0s 120us/step - loss: 0.3903 - accuracy: 0.8355\n",
            "Epoch 28/100\n",
            "614/614 [==============================] - 0s 121us/step - loss: 0.3812 - accuracy: 0.8388\n",
            "Epoch 29/100\n",
            "614/614 [==============================] - 0s 125us/step - loss: 0.3815 - accuracy: 0.8322\n",
            "Epoch 30/100\n",
            "614/614 [==============================] - 0s 118us/step - loss: 0.3869 - accuracy: 0.8257\n",
            "Epoch 31/100\n",
            "614/614 [==============================] - 0s 131us/step - loss: 0.3959 - accuracy: 0.8160\n",
            "Epoch 32/100\n",
            "614/614 [==============================] - 0s 121us/step - loss: 0.3998 - accuracy: 0.8160\n",
            "Epoch 33/100\n",
            "614/614 [==============================] - 0s 117us/step - loss: 0.3927 - accuracy: 0.8274\n",
            "Epoch 34/100\n",
            "614/614 [==============================] - 0s 118us/step - loss: 0.3997 - accuracy: 0.8306\n",
            "Epoch 35/100\n",
            "614/614 [==============================] - 0s 139us/step - loss: 0.3820 - accuracy: 0.8322\n",
            "Epoch 36/100\n",
            "614/614 [==============================] - 0s 132us/step - loss: 0.4030 - accuracy: 0.8192\n",
            "Epoch 37/100\n",
            "614/614 [==============================] - 0s 119us/step - loss: 0.3904 - accuracy: 0.8290\n",
            "Epoch 38/100\n",
            "614/614 [==============================] - 0s 127us/step - loss: 0.3819 - accuracy: 0.8339\n",
            "Epoch 39/100\n",
            "614/614 [==============================] - 0s 118us/step - loss: 0.3878 - accuracy: 0.8339\n",
            "Epoch 40/100\n",
            "614/614 [==============================] - 0s 117us/step - loss: 0.3932 - accuracy: 0.8306\n",
            "Epoch 41/100\n",
            "614/614 [==============================] - 0s 131us/step - loss: 0.3856 - accuracy: 0.8322\n",
            "Epoch 42/100\n",
            "614/614 [==============================] - 0s 137us/step - loss: 0.3927 - accuracy: 0.8225\n",
            "Epoch 43/100\n",
            "614/614 [==============================] - 0s 120us/step - loss: 0.3856 - accuracy: 0.8322\n",
            "Epoch 44/100\n",
            "614/614 [==============================] - 0s 121us/step - loss: 0.3877 - accuracy: 0.8225\n",
            "Epoch 45/100\n",
            "614/614 [==============================] - 0s 128us/step - loss: 0.3987 - accuracy: 0.8225\n",
            "Epoch 46/100\n",
            "614/614 [==============================] - 0s 121us/step - loss: 0.3896 - accuracy: 0.8290\n",
            "Epoch 47/100\n",
            "614/614 [==============================] - 0s 120us/step - loss: 0.3824 - accuracy: 0.8355\n",
            "Epoch 48/100\n",
            "614/614 [==============================] - 0s 128us/step - loss: 0.3816 - accuracy: 0.8322\n",
            "Epoch 49/100\n",
            "614/614 [==============================] - 0s 124us/step - loss: 0.3951 - accuracy: 0.8241\n",
            "Epoch 50/100\n",
            "614/614 [==============================] - 0s 133us/step - loss: 0.3814 - accuracy: 0.8225\n",
            "Epoch 51/100\n",
            "614/614 [==============================] - 0s 117us/step - loss: 0.3874 - accuracy: 0.8274\n",
            "Epoch 52/100\n",
            "614/614 [==============================] - 0s 122us/step - loss: 0.3884 - accuracy: 0.8192\n",
            "Epoch 53/100\n",
            "614/614 [==============================] - 0s 118us/step - loss: 0.3814 - accuracy: 0.8257\n",
            "Epoch 54/100\n",
            "614/614 [==============================] - 0s 129us/step - loss: 0.3956 - accuracy: 0.8290\n",
            "Epoch 55/100\n",
            "614/614 [==============================] - 0s 131us/step - loss: 0.4013 - accuracy: 0.8127\n",
            "Epoch 56/100\n",
            "614/614 [==============================] - 0s 137us/step - loss: 0.4117 - accuracy: 0.8322\n",
            "Epoch 57/100\n",
            "614/614 [==============================] - 0s 118us/step - loss: 0.3874 - accuracy: 0.8241\n",
            "Epoch 58/100\n",
            "614/614 [==============================] - 0s 127us/step - loss: 0.3935 - accuracy: 0.8176\n",
            "Epoch 59/100\n",
            "614/614 [==============================] - 0s 123us/step - loss: 0.3792 - accuracy: 0.8322\n",
            "Epoch 60/100\n",
            "614/614 [==============================] - 0s 123us/step - loss: 0.3832 - accuracy: 0.8388\n",
            "Epoch 61/100\n",
            "614/614 [==============================] - 0s 132us/step - loss: 0.3817 - accuracy: 0.8322\n",
            "Epoch 62/100\n",
            "614/614 [==============================] - 0s 126us/step - loss: 0.3821 - accuracy: 0.8339\n",
            "Epoch 63/100\n",
            "614/614 [==============================] - 0s 123us/step - loss: 0.3957 - accuracy: 0.8339\n",
            "Epoch 64/100\n",
            "614/614 [==============================] - 0s 116us/step - loss: 0.3890 - accuracy: 0.8176\n",
            "Epoch 65/100\n",
            "614/614 [==============================] - 0s 127us/step - loss: 0.3816 - accuracy: 0.8241\n",
            "Epoch 66/100\n",
            "614/614 [==============================] - 0s 120us/step - loss: 0.3847 - accuracy: 0.8241\n",
            "Epoch 67/100\n",
            "614/614 [==============================] - 0s 118us/step - loss: 0.3975 - accuracy: 0.8225\n",
            "Epoch 68/100\n",
            "614/614 [==============================] - 0s 125us/step - loss: 0.3956 - accuracy: 0.8046\n",
            "Epoch 69/100\n",
            "614/614 [==============================] - 0s 127us/step - loss: 0.3902 - accuracy: 0.8274\n",
            "Epoch 70/100\n",
            "614/614 [==============================] - 0s 126us/step - loss: 0.3770 - accuracy: 0.8306\n",
            "Epoch 71/100\n",
            "614/614 [==============================] - 0s 125us/step - loss: 0.3997 - accuracy: 0.8241\n",
            "Epoch 72/100\n",
            "614/614 [==============================] - 0s 123us/step - loss: 0.3834 - accuracy: 0.8241\n",
            "Epoch 73/100\n",
            "614/614 [==============================] - 0s 128us/step - loss: 0.3923 - accuracy: 0.8225\n",
            "Epoch 74/100\n",
            "614/614 [==============================] - 0s 119us/step - loss: 0.3867 - accuracy: 0.8160\n",
            "Epoch 75/100\n",
            "614/614 [==============================] - 0s 124us/step - loss: 0.3887 - accuracy: 0.8111\n",
            "Epoch 76/100\n",
            "614/614 [==============================] - 0s 118us/step - loss: 0.3826 - accuracy: 0.8257\n",
            "Epoch 77/100\n",
            "614/614 [==============================] - 0s 132us/step - loss: 0.4072 - accuracy: 0.8062\n",
            "Epoch 78/100\n",
            "614/614 [==============================] - 0s 138us/step - loss: 0.3870 - accuracy: 0.8274\n",
            "Epoch 79/100\n",
            "614/614 [==============================] - 0s 125us/step - loss: 0.3871 - accuracy: 0.8257\n",
            "Epoch 80/100\n",
            "614/614 [==============================] - 0s 125us/step - loss: 0.4001 - accuracy: 0.8257\n",
            "Epoch 81/100\n",
            "614/614 [==============================] - 0s 124us/step - loss: 0.3949 - accuracy: 0.8274\n",
            "Epoch 82/100\n",
            "614/614 [==============================] - 0s 128us/step - loss: 0.3829 - accuracy: 0.8241\n",
            "Epoch 83/100\n",
            "614/614 [==============================] - 0s 126us/step - loss: 0.3934 - accuracy: 0.8160\n",
            "Epoch 84/100\n",
            "614/614 [==============================] - 0s 128us/step - loss: 0.3830 - accuracy: 0.8339\n",
            "Epoch 85/100\n",
            "614/614 [==============================] - 0s 125us/step - loss: 0.3871 - accuracy: 0.8420\n",
            "Epoch 86/100\n",
            "614/614 [==============================] - 0s 119us/step - loss: 0.3827 - accuracy: 0.8290\n",
            "Epoch 87/100\n",
            "614/614 [==============================] - 0s 121us/step - loss: 0.3913 - accuracy: 0.8306\n",
            "Epoch 88/100\n",
            "614/614 [==============================] - 0s 131us/step - loss: 0.3988 - accuracy: 0.8160\n",
            "Epoch 89/100\n",
            "614/614 [==============================] - 0s 117us/step - loss: 0.3866 - accuracy: 0.8290\n",
            "Epoch 90/100\n",
            "614/614 [==============================] - 0s 126us/step - loss: 0.3842 - accuracy: 0.8322\n",
            "Epoch 91/100\n",
            "614/614 [==============================] - 0s 128us/step - loss: 0.3920 - accuracy: 0.8257\n",
            "Epoch 92/100\n",
            "614/614 [==============================] - 0s 125us/step - loss: 0.3841 - accuracy: 0.8388\n",
            "Epoch 93/100\n",
            "614/614 [==============================] - 0s 128us/step - loss: 0.3869 - accuracy: 0.8290\n",
            "Epoch 94/100\n",
            "614/614 [==============================] - 0s 122us/step - loss: 0.3815 - accuracy: 0.8241\n",
            "Epoch 95/100\n",
            "614/614 [==============================] - 0s 125us/step - loss: 0.3763 - accuracy: 0.8290\n",
            "Epoch 96/100\n",
            "614/614 [==============================] - 0s 134us/step - loss: 0.3850 - accuracy: 0.8241\n",
            "Epoch 97/100\n",
            "614/614 [==============================] - 0s 121us/step - loss: 0.3917 - accuracy: 0.8208\n",
            "Epoch 98/100\n",
            "614/614 [==============================] - 0s 133us/step - loss: 0.4081 - accuracy: 0.8274\n",
            "Epoch 99/100\n",
            "614/614 [==============================] - 0s 127us/step - loss: 0.3839 - accuracy: 0.8322\n",
            "Epoch 100/100\n",
            "614/614 [==============================] - 0s 127us/step - loss: 0.3821 - accuracy: 0.8339\n"
          ],
          "name": "stdout"
        },
        {
          "output_type": "execute_result",
          "data": {
            "text/plain": [
              "<keras.callbacks.callbacks.History at 0x7f87c1f0be48>"
            ]
          },
          "metadata": {
            "tags": []
          },
          "execution_count": 39
        }
      ]
    },
    {
      "cell_type": "code",
      "metadata": {
        "id": "-TtxKA_bhs1X",
        "colab_type": "code",
        "colab": {
          "base_uri": "https://localhost:8080/",
          "height": 103
        },
        "outputId": "cb03d9c2-6dd0-408e-e023-f81ed46a4398"
      },
      "source": [
        "# make class predictions with the model\n",
        "predictions = model1.predict_classes(X_test)\n",
        "# summarize the first 5 cases\n",
        "for i in range(5):\n",
        "\tprint('%s => %d (expected %d)' % (X_test[i].tolist(), predictions[i], y_test[i]))"
      ],
      "execution_count": 40,
      "outputs": [
        {
          "output_type": "stream",
          "text": [
            "[6.0, 98.0, 58.0, 33.0, 190.0, 34.0, 0.43, 43.0] => 1 (expected 0)\n",
            "[2.0, 112.0, 75.0, 32.0, 0.0, 35.7, 0.14800000000000002, 21.0] => 0 (expected 0)\n",
            "[2.0, 108.0, 64.0, 0.0, 0.0, 30.8, 0.158, 21.0] => 0 (expected 0)\n",
            "[8.0, 107.0, 80.0, 0.0, 0.0, 24.6, 0.856, 34.0] => 0 (expected 0)\n",
            "[7.0, 136.0, 90.0, 0.0, 0.0, 29.9, 0.21, 50.0] => 1 (expected 0)\n"
          ],
          "name": "stdout"
        }
      ]
    },
    {
      "cell_type": "code",
      "metadata": {
        "id": "xbtFxjJWhIGW",
        "colab_type": "code",
        "colab": {
          "base_uri": "https://localhost:8080/",
          "height": 51
        },
        "outputId": "75e4f828-f8c7-40cb-fd35-859660fdade2"
      },
      "source": [
        "\n",
        "# evaluate the keras model\n",
        "_, accuracy = model1.evaluate(X_test, y_test)\n",
        "print('Accuracy: %.2f' % (accuracy*100))"
      ],
      "execution_count": 41,
      "outputs": [
        {
          "output_type": "stream",
          "text": [
            "154/154 [==============================] - 0s 143us/step\n",
            "Accuracy: 75.32\n"
          ],
          "name": "stdout"
        }
      ]
    },
    {
      "cell_type": "code",
      "metadata": {
        "id": "scl8TW0pFWQI",
        "colab_type": "code",
        "colab": {
          "base_uri": "https://localhost:8080/",
          "height": 51
        },
        "outputId": "88db1c23-4c31-46bc-afde-a9ab107ffad5"
      },
      "source": [
        "!pip install ann_visualizer\n",
        "!pip install graphviz"
      ],
      "execution_count": 42,
      "outputs": [
        {
          "output_type": "stream",
          "text": [
            "Requirement already satisfied: ann_visualizer in /usr/local/lib/python3.6/dist-packages (2.5)\n",
            "Requirement already satisfied: graphviz in /usr/local/lib/python3.6/dist-packages (0.10.1)\n"
          ],
          "name": "stdout"
        }
      ]
    },
    {
      "cell_type": "code",
      "metadata": {
        "id": "gCdmG7rCFSeR",
        "colab_type": "code",
        "colab": {}
      },
      "source": [
        "from ann_visualizer.visualize import ann_viz;\n",
        "\n",
        "ann_viz(model1, view=True, filename=\"network.gv\", title=\"FFNNimage\")"
      ],
      "execution_count": 43,
      "outputs": []
    }
  ]
}