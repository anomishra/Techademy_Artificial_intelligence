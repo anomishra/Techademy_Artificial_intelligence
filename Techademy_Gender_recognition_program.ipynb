{
  "nbformat": 4,
  "nbformat_minor": 0,
  "metadata": {
    "colab": {
      "name": "Techademy_Gender_recognition_program.ipynb",
      "provenance": [],
      "authorship_tag": "ABX9TyPV6O7lGpKXeJ7R9xW1YFUB",
      "include_colab_link": true
    },
    "kernelspec": {
      "name": "python3",
      "display_name": "Python 3"
    }
  },
  "cells": [
    {
      "cell_type": "markdown",
      "metadata": {
        "id": "view-in-github",
        "colab_type": "text"
      },
      "source": [
        "<a href=\"https://colab.research.google.com/github/anomishra/Techademy_Artificial_intelligence/blob/master/Techademy_Gender_recognition_program.ipynb\" target=\"_parent\"><img src=\"https://colab.research.google.com/assets/colab-badge.svg\" alt=\"Open In Colab\"/></a>"
      ]
    },
    {
      "cell_type": "code",
      "metadata": {
        "id": "YCPjmCfL6zE7",
        "colab_type": "code",
        "colab": {
          "base_uri": "https://localhost:8080/",
          "height": 68
        },
        "outputId": "f162f461-f354-4600-81b5-267610886621"
      },
      "source": [
        "nltk.download('names')"
      ],
      "execution_count": 5,
      "outputs": [
        {
          "output_type": "stream",
          "text": [
            "[nltk_data] Downloading package names to /root/nltk_data...\n",
            "[nltk_data]   Package names is already up-to-date!\n"
          ],
          "name": "stdout"
        },
        {
          "output_type": "execute_result",
          "data": {
            "text/plain": [
              "True"
            ]
          },
          "metadata": {
            "tags": []
          },
          "execution_count": 5
        }
      ]
    },
    {
      "cell_type": "markdown",
      "metadata": {
        "id": "dg-wejsq7Gp_",
        "colab_type": "text"
      },
      "source": [
        "Male_names Link: https://media.geeksforgeeks.org/wp-content/uploads/male.txt </br>\n",
        "Female_names Link: https://media.geeksforgeeks.org/wp-content/uploads/female.txt"
      ]
    },
    {
      "cell_type": "code",
      "metadata": {
        "id": "ZVmHO1HW5_f2",
        "colab_type": "code",
        "colab": {
          "base_uri": "https://localhost:8080/",
          "height": 51
        },
        "outputId": "4363896b-765b-4e75-f0f4-85da7817e3ee"
      },
      "source": [
        "# importing libraries \n",
        "import random \n",
        "from nltk.corpus import names \n",
        "import nltk \n",
        "\n",
        "def gender_features(word): \n",
        "\treturn {'last_letter':word[-1]} \n",
        "\n",
        "# preparing a list of examples and corresponding class labels. \n",
        "labeled_names = ([(name, 'male') for name in names.words('male.txt')]+\n",
        "\t\t\t[(name, 'female') for name in names.words('female.txt')]) \n",
        "\n",
        "random.shuffle(labeled_names) \n",
        "\n",
        "# we use the feature extractor to process the names data. \n",
        "featuresets = [(gender_features(n), gender) \n",
        "\t\t\tfor (n, gender)in labeled_names] \n",
        "\n",
        "# Divide the resulting list of feature \n",
        "# sets into a training set and a test set. \n",
        "train_set, test_set = featuresets[500:], featuresets[:500] \n",
        "\n",
        "# The training set is used to \n",
        "# train a new \"naive Bayes\" classifier. \n",
        "classifier = nltk.NaiveBayesClassifier.train(train_set) \n",
        "\n",
        "print(classifier.classify(gender_features('anoop'))) \n",
        "\n",
        "# output should be 'male' \n",
        "print(nltk.classify.accuracy(classifier, train_set)) \n"
      ],
      "execution_count": 9,
      "outputs": [
        {
          "output_type": "stream",
          "text": [
            "male\n",
            "0.7623589468027941\n"
          ],
          "name": "stdout"
        }
      ]
    },
    {
      "cell_type": "code",
      "metadata": {
        "id": "qpIX58uq68ub",
        "colab_type": "code",
        "colab": {
          "base_uri": "https://localhost:8080/",
          "height": 207
        },
        "outputId": "373e206a-8900-4dbf-af8f-69d130f5b335"
      },
      "source": [
        "classifier.show_most_informative_features(10) "
      ],
      "execution_count": 10,
      "outputs": [
        {
          "output_type": "stream",
          "text": [
            "Most Informative Features\n",
            "             last_letter = 'a'            female : male   =     36.6 : 1.0\n",
            "             last_letter = 'k'              male : female =     33.0 : 1.0\n",
            "             last_letter = 'f'              male : female =     16.1 : 1.0\n",
            "             last_letter = 'p'              male : female =     12.0 : 1.0\n",
            "             last_letter = 'v'              male : female =     11.3 : 1.0\n",
            "             last_letter = 'd'              male : female =      9.4 : 1.0\n",
            "             last_letter = 'o'              male : female =      7.8 : 1.0\n",
            "             last_letter = 'm'              male : female =      7.8 : 1.0\n",
            "             last_letter = 'r'              male : female =      6.8 : 1.0\n",
            "             last_letter = 'w'              male : female =      5.9 : 1.0\n"
          ],
          "name": "stdout"
        }
      ]
    }
  ]
}