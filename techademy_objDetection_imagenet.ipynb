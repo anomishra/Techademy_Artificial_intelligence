{
  "nbformat": 4,
  "nbformat_minor": 0,
  "metadata": {
    "colab": {
      "name": "techademy_objDetection_imagenet.ipynb",
      "provenance": [],
      "collapsed_sections": [],
      "authorship_tag": "ABX9TyPXTr4EZ29LjdR/N2sskJ/h",
      "include_colab_link": true
    },
    "kernelspec": {
      "name": "python3",
      "display_name": "Python 3"
    }
  },
  "cells": [
    {
      "cell_type": "markdown",
      "metadata": {
        "id": "view-in-github",
        "colab_type": "text"
      },
      "source": [
        "<a href=\"https://colab.research.google.com/github/anomishra/Techademy_Artificial_intelligence/blob/master/techademy_objDetection_imagenet.ipynb\" target=\"_parent\"><img src=\"https://colab.research.google.com/assets/colab-badge.svg\" alt=\"Open In Colab\"/></a>"
      ]
    },
    {
      "cell_type": "markdown",
      "metadata": {
        "id": "y4BY7pzbOxHU",
        "colab_type": "text"
      },
      "source": [
        "##RESNET50"
      ]
    },
    {
      "cell_type": "code",
      "metadata": {
        "id": "5z1o5KVlGZni",
        "colab_type": "code",
        "colab": {}
      },
      "source": [
        "from tensorflow.keras.applications.resnet50 import ResNet50\n",
        "from tensorflow.keras.preprocessing import image\n",
        "from tensorflow.keras.applications.resnet50 import preprocess_input, decode_predictions\n",
        "import numpy as np"
      ],
      "execution_count": 1,
      "outputs": []
    },
    {
      "cell_type": "code",
      "metadata": {
        "id": "pYPVzlgdKqfI",
        "colab_type": "code",
        "colab": {
          "base_uri": "https://localhost:8080/",
          "height": 51
        },
        "outputId": "dd2cda16-a6b3-4afe-dac5-145d1acb9d84"
      },
      "source": [
        "model = ResNet50(weights='imagenet')\n"
      ],
      "execution_count": 2,
      "outputs": [
        {
          "output_type": "stream",
          "text": [
            "Downloading data from https://storage.googleapis.com/tensorflow/keras-applications/resnet/resnet50_weights_tf_dim_ordering_tf_kernels.h5\n",
            "102973440/102967424 [==============================] - 1s 0us/step\n"
          ],
          "name": "stdout"
        }
      ]
    },
    {
      "cell_type": "code",
      "metadata": {
        "id": "tsPTfKLlKsDO",
        "colab_type": "code",
        "colab": {}
      },
      "source": [
        "img_path = 'sample_image.jpg'\n",
        "img = image.load_img(img_path, target_size=(224, 224))\n",
        "# converting the image into array form\n",
        "x = image.img_to_array(img)\n",
        "x = np.expand_dims(x, axis=0)\n",
        "x = preprocess_input(x)"
      ],
      "execution_count": 6,
      "outputs": []
    },
    {
      "cell_type": "code",
      "metadata": {
        "id": "buHep2qOKvQr",
        "colab_type": "code",
        "colab": {
          "base_uri": "https://localhost:8080/",
          "height": 34
        },
        "outputId": "30840ec0-bfda-47f9-e900-4b926ee463a5"
      },
      "source": [
        "preds = model.predict(x)\n",
        "# decode the results into a list of tuples (class, description, probability)\n",
        "# (one such list for each sample in the batch)\n",
        "print('Predicted:', decode_predictions(preds, top=3)[0])\n"
      ],
      "execution_count": 7,
      "outputs": [
        {
          "output_type": "stream",
          "text": [
            "Predicted: [('n02115641', 'dingo', 0.25771514), ('n02105162', 'malinois', 0.23485066), ('n02106662', 'German_shepherd', 0.16461475)]\n"
          ],
          "name": "stdout"
        }
      ]
    },
    {
      "cell_type": "markdown",
      "metadata": {
        "id": "UDKF4VtNLRwt",
        "colab_type": "text"
      },
      "source": [
        "##Xception"
      ]
    },
    {
      "cell_type": "code",
      "metadata": {
        "id": "MkUF6XYVLRSi",
        "colab_type": "code",
        "colab": {
          "base_uri": "https://localhost:8080/",
          "height": 34
        },
        "outputId": "9730b97a-b9c9-4c57-df01-b9b613c31f93"
      },
      "source": [
        "from keras.applications.xception import Xception\n",
        "from keras.preprocessing import image\n",
        "from keras.applications.xception import preprocess_input, decode_predictions\n",
        "import numpy as np\n",
        " \n",
        "import PIL\n",
        "from PIL import Image\n",
        "import requests\n",
        "from io import BytesIO"
      ],
      "execution_count": 8,
      "outputs": [
        {
          "output_type": "stream",
          "text": [
            "Using TensorFlow backend.\n"
          ],
          "name": "stderr"
        }
      ]
    },
    {
      "cell_type": "code",
      "metadata": {
        "id": "DJJknS5JO_zx",
        "colab_type": "code",
        "colab": {
          "base_uri": "https://localhost:8080/",
          "height": 51
        },
        "outputId": "ba6c9b5a-ed4e-413c-b826-7c48480068a7"
      },
      "source": [
        "# load the model\n",
        "model1 = Xception(weights='imagenet', include_top=True)"
      ],
      "execution_count": 9,
      "outputs": [
        {
          "output_type": "stream",
          "text": [
            "Downloading data from https://github.com/fchollet/deep-learning-models/releases/download/v0.4/xception_weights_tf_dim_ordering_tf_kernels.h5\n",
            "91889664/91884032 [==============================] - 1s 0us/step\n"
          ],
          "name": "stdout"
        }
      ]
    },
    {
      "cell_type": "code",
      "metadata": {
        "id": "X1qDElidPCkb",
        "colab_type": "code",
        "colab": {}
      },
      "source": [
        "##############################################\n",
        "# if you want to read the image online\n",
        "#############################################\n",
        "# chose the URL image that you want\n",
        "#URL = \"https://images.unsplash.com/photo-1529429617124-95b109e86bb8?ixlib=rb-1.2.1&amp;ixid=eyJhcHBfaWQiOjEyMDd9&amp;auto=format&amp;fit=crop&amp;w=500&amp;q=60\"\n",
        "# get the image\n",
        "#response = requests.get(URL)\n",
        "#img = Image.open(BytesIO(response.content))\n",
        "# resize the image according to each model (see documentation of each model)\n",
        "#img = img.resize((299,299))\n",
        " \n",
        "##############################################\n",
        "# if you want to read the image from your PC \n",
        "#############################################\n",
        "img_path = 'elephant.jpeg'\n",
        "img = image.load_img(img_path, target_size=(299, 299))\n",
        "#############################################\n"
      ],
      "execution_count": 13,
      "outputs": []
    },
    {
      "cell_type": "code",
      "metadata": {
        "id": "XQSM4B9ZPgol",
        "colab_type": "code",
        "colab": {}
      },
      "source": [
        "# convert to numpy array\n",
        "x = image.img_to_array(img)\n",
        "x = np.expand_dims(x, axis=0)\n",
        "x = preprocess_input(x)"
      ],
      "execution_count": 14,
      "outputs": []
    },
    {
      "cell_type": "code",
      "metadata": {
        "id": "XC6l0JWMPkvr",
        "colab_type": "code",
        "colab": {
          "base_uri": "https://localhost:8080/",
          "height": 68
        },
        "outputId": "7248987f-0a44-4e70-81e6-a113a4295db0"
      },
      "source": [
        "features = model.predict(x)\n",
        " \n",
        "# return the top 20 detected objects\n",
        "label = decode_predictions(features, top=3)\n",
        "label"
      ],
      "execution_count": 15,
      "outputs": [
        {
          "output_type": "execute_result",
          "data": {
            "text/plain": [
              "[[('n02840245', 'binder', 0.04939404),\n",
              "  ('n03207941', 'dishwasher', 0.028772917),\n",
              "  ('n01930112', 'nematode', 0.027234558)]]"
            ]
          },
          "metadata": {
            "tags": []
          },
          "execution_count": 15
        }
      ]
    },
    {
      "cell_type": "code",
      "metadata": {
        "id": "IHTifknYPy3b",
        "colab_type": "code",
        "colab": {
          "base_uri": "https://localhost:8080/",
          "height": 34
        },
        "outputId": "cf79787c-6742-49e3-ee46-240037d00aeb"
      },
      "source": [
        "[tpl[1:3] for tpl in label[0] if tpl[2]>0.05]\n",
        "#print classes having probability greater than 5%"
      ],
      "execution_count": 16,
      "outputs": [
        {
          "output_type": "execute_result",
          "data": {
            "text/plain": [
              "[]"
            ]
          },
          "metadata": {
            "tags": []
          },
          "execution_count": 16
        }
      ]
    }
  ]
}