{
  "nbformat": 4,
  "nbformat_minor": 0,
  "metadata": {
    "colab": {
      "name": "Linear_regression.ipynb",
      "provenance": [],
      "collapsed_sections": [],
      "authorship_tag": "ABX9TyMpVeXV40gswS13Xs8uBu+T",
      "include_colab_link": true
    },
    "kernelspec": {
      "name": "python3",
      "display_name": "Python 3"
    },
    "accelerator": "GPU"
  },
  "cells": [
    {
      "cell_type": "markdown",
      "metadata": {
        "id": "view-in-github",
        "colab_type": "text"
      },
      "source": [
        "<a href=\"https://colab.research.google.com/github/anomishra/Techademy_Artificial_intelligence/blob/master/ML_Models/Linear_regression.ipynb\" target=\"_parent\"><img src=\"https://colab.research.google.com/assets/colab-badge.svg\" alt=\"Open In Colab\"/></a>"
      ]
    },
    {
      "cell_type": "markdown",
      "metadata": {
        "id": "MybfrPXlr5Xw",
        "colab_type": "text"
      },
      "source": [
        "**Y = mx + b**;\n",
        "Calculate m and b to predict Y"
      ]
    },
    {
      "cell_type": "markdown",
      "metadata": {
        "id": "UEbjRnQ7sIwq",
        "colab_type": "text"
      },
      "source": [
        "### Importing all Needed packages or modules\n",
        "If any package is not available then use command \" !pip install package_name \""
      ]
    },
    {
      "cell_type": "code",
      "metadata": {
        "id": "4BZNwNDQsWGh",
        "colab_type": "code",
        "colab": {}
      },
      "source": [
        "import matplotlib.pyplot as plt\n",
        "import pandas as pd\n",
        "import pylab as pl\n",
        "import numpy as np\n",
        "%matplotlib inline"
      ],
      "execution_count": 0,
      "outputs": []
    },
    {
      "cell_type": "markdown",
      "metadata": {
        "id": "Gxj5AYPAsgCj",
        "colab_type": "text"
      },
      "source": [
        "#Importing data\n",
        "Upload the data if present offline \\\\\n",
        "**Data Source:** https://open.canada.ca/data/en/dataset/98f1a129-f628-4ce4-b24d-6f16bf24dd64"
      ]
    },
    {
      "cell_type": "code",
      "metadata": {
        "id": "6rbddXUBsoJn",
        "colab_type": "code",
        "colab": {}
      },
      "source": [
        "data = pd.read_csv('FuelConsumption.csv')\n"
      ],
      "execution_count": 0,
      "outputs": []
    },
    {
      "cell_type": "markdown",
      "metadata": {
        "id": "f0H3Ninbs06_",
        "colab_type": "text"
      },
      "source": [
        "Data uploaded to google colab "
      ]
    },
    {
      "cell_type": "code",
      "metadata": {
        "id": "fHH0NL2Ws4Cx",
        "colab_type": "code",
        "outputId": "35d8c783-56c4-42ef-cfc6-a034355f3193",
        "colab": {
          "base_uri": "https://localhost:8080/",
          "height": 267
        }
      },
      "source": [
        "data.head() # only initial dataframe not all data points will be printed"
      ],
      "execution_count": 0,
      "outputs": [
        {
          "output_type": "execute_result",
          "data": {
            "text/html": [
              "<div>\n",
              "<style scoped>\n",
              "    .dataframe tbody tr th:only-of-type {\n",
              "        vertical-align: middle;\n",
              "    }\n",
              "\n",
              "    .dataframe tbody tr th {\n",
              "        vertical-align: top;\n",
              "    }\n",
              "\n",
              "    .dataframe thead th {\n",
              "        text-align: right;\n",
              "    }\n",
              "</style>\n",
              "<table border=\"1\" class=\"dataframe\">\n",
              "  <thead>\n",
              "    <tr style=\"text-align: right;\">\n",
              "      <th></th>\n",
              "      <th>MODELYEAR</th>\n",
              "      <th>MAKE</th>\n",
              "      <th>MODEL</th>\n",
              "      <th>VEHICLECLASS</th>\n",
              "      <th>ENGINESIZE</th>\n",
              "      <th>CYLINDERS</th>\n",
              "      <th>TRANSMISSION</th>\n",
              "      <th>FUELTYPE</th>\n",
              "      <th>FUELCONSUMPTION_CITY</th>\n",
              "      <th>FUELCONSUMPTION_HWY</th>\n",
              "      <th>FUELCONSUMPTION_COMB</th>\n",
              "      <th>FUELCONSUMPTION_COMB_MPG</th>\n",
              "      <th>CO2EMISSIONS</th>\n",
              "    </tr>\n",
              "  </thead>\n",
              "  <tbody>\n",
              "    <tr>\n",
              "      <th>0</th>\n",
              "      <td>2014</td>\n",
              "      <td>ACURA</td>\n",
              "      <td>ILX</td>\n",
              "      <td>COMPACT</td>\n",
              "      <td>2.0</td>\n",
              "      <td>4</td>\n",
              "      <td>AS5</td>\n",
              "      <td>Z</td>\n",
              "      <td>9.9</td>\n",
              "      <td>6.7</td>\n",
              "      <td>8.5</td>\n",
              "      <td>33</td>\n",
              "      <td>196</td>\n",
              "    </tr>\n",
              "    <tr>\n",
              "      <th>1</th>\n",
              "      <td>2014</td>\n",
              "      <td>ACURA</td>\n",
              "      <td>ILX</td>\n",
              "      <td>COMPACT</td>\n",
              "      <td>2.4</td>\n",
              "      <td>4</td>\n",
              "      <td>M6</td>\n",
              "      <td>Z</td>\n",
              "      <td>11.2</td>\n",
              "      <td>7.7</td>\n",
              "      <td>9.6</td>\n",
              "      <td>29</td>\n",
              "      <td>221</td>\n",
              "    </tr>\n",
              "    <tr>\n",
              "      <th>2</th>\n",
              "      <td>2014</td>\n",
              "      <td>ACURA</td>\n",
              "      <td>ILX HYBRID</td>\n",
              "      <td>COMPACT</td>\n",
              "      <td>1.5</td>\n",
              "      <td>4</td>\n",
              "      <td>AV7</td>\n",
              "      <td>Z</td>\n",
              "      <td>6.0</td>\n",
              "      <td>5.8</td>\n",
              "      <td>5.9</td>\n",
              "      <td>48</td>\n",
              "      <td>136</td>\n",
              "    </tr>\n",
              "    <tr>\n",
              "      <th>3</th>\n",
              "      <td>2014</td>\n",
              "      <td>ACURA</td>\n",
              "      <td>MDX 4WD</td>\n",
              "      <td>SUV - SMALL</td>\n",
              "      <td>3.5</td>\n",
              "      <td>6</td>\n",
              "      <td>AS6</td>\n",
              "      <td>Z</td>\n",
              "      <td>12.7</td>\n",
              "      <td>9.1</td>\n",
              "      <td>11.1</td>\n",
              "      <td>25</td>\n",
              "      <td>255</td>\n",
              "    </tr>\n",
              "    <tr>\n",
              "      <th>4</th>\n",
              "      <td>2014</td>\n",
              "      <td>ACURA</td>\n",
              "      <td>RDX AWD</td>\n",
              "      <td>SUV - SMALL</td>\n",
              "      <td>3.5</td>\n",
              "      <td>6</td>\n",
              "      <td>AS6</td>\n",
              "      <td>Z</td>\n",
              "      <td>12.1</td>\n",
              "      <td>8.7</td>\n",
              "      <td>10.6</td>\n",
              "      <td>27</td>\n",
              "      <td>244</td>\n",
              "    </tr>\n",
              "  </tbody>\n",
              "</table>\n",
              "</div>"
            ],
            "text/plain": [
              "   MODELYEAR   MAKE  ... FUELCONSUMPTION_COMB_MPG CO2EMISSIONS\n",
              "0       2014  ACURA  ...                       33          196\n",
              "1       2014  ACURA  ...                       29          221\n",
              "2       2014  ACURA  ...                       48          136\n",
              "3       2014  ACURA  ...                       25          255\n",
              "4       2014  ACURA  ...                       27          244\n",
              "\n",
              "[5 rows x 13 columns]"
            ]
          },
          "metadata": {
            "tags": []
          },
          "execution_count": 3
        }
      ]
    },
    {
      "cell_type": "markdown",
      "metadata": {
        "id": "KaTDtElHtJhv",
        "colab_type": "text"
      },
      "source": [
        "# Understanding the Data\n",
        "\n",
        "This datasetcontains model-specific fuel consumption ratings and estimated carbon dioxide emissions for new light-duty vehicles for retail sale in Canada. Below are the variables present in the data.\n",
        "Can you say the dependent variable\n",
        "\n",
        "- *MODELYEAR* e.g. 2014\n",
        "- *MAKE* e.g. Acura\n",
        "- *MODEL* e.g. ILX\n",
        "- *VEHICLE CLASS* e.g. SUV\n",
        "- *ENGINE SIZE* e.g. 4.7\n",
        "- *CYLINDERS* e.g 6\n",
        "- *TRANSMISSION* e.g. A6\n",
        "- *FUEL CONSUMPTION in CITY(L/100 km)* e.g. 9.9\n",
        "- *FUEL CONSUMPTION in HWY (L/100 km)* e.g. 8.9\n",
        "- *FUEL CONSUMPTION COMB (L/100 km)* e.g. 9.2\n",
        "- *CO2 EMISSIONS (g/km)* e.g. 182   --> low --> 0"
      ]
    },
    {
      "cell_type": "markdown",
      "metadata": {
        "id": "p4mS9AJItziV",
        "colab_type": "text"
      },
      "source": [
        "## Data Exploration\n",
        "Lets describe the data, i.e., check more about the data. \\\\\n",
        "Generally, if we find any missing values or corrupted data, we perform certain operations based on what is needed. \\\\\n",
        "In this course, we will only use perfect data."
      ]
    },
    {
      "cell_type": "markdown",
      "metadata": {
        "id": "VvtYL9uzuXhM",
        "colab_type": "text"
      },
      "source": [
        ".describe() function used to summarize the whole dataset"
      ]
    },
    {
      "cell_type": "code",
      "metadata": {
        "id": "rfWmFbEOufup",
        "colab_type": "code",
        "outputId": "01bbf3f3-be85-4ee1-8f15-faaf7b00ab3e",
        "colab": {
          "base_uri": "https://localhost:8080/",
          "height": 307
        }
      },
      "source": [
        "# Explain what do see here.\n",
        "data.describe()"
      ],
      "execution_count": 0,
      "outputs": [
        {
          "output_type": "execute_result",
          "data": {
            "text/html": [
              "<div>\n",
              "<style scoped>\n",
              "    .dataframe tbody tr th:only-of-type {\n",
              "        vertical-align: middle;\n",
              "    }\n",
              "\n",
              "    .dataframe tbody tr th {\n",
              "        vertical-align: top;\n",
              "    }\n",
              "\n",
              "    .dataframe thead th {\n",
              "        text-align: right;\n",
              "    }\n",
              "</style>\n",
              "<table border=\"1\" class=\"dataframe\">\n",
              "  <thead>\n",
              "    <tr style=\"text-align: right;\">\n",
              "      <th></th>\n",
              "      <th>MODELYEAR</th>\n",
              "      <th>ENGINESIZE</th>\n",
              "      <th>CYLINDERS</th>\n",
              "      <th>FUELCONSUMPTION_CITY</th>\n",
              "      <th>FUELCONSUMPTION_HWY</th>\n",
              "      <th>FUELCONSUMPTION_COMB</th>\n",
              "      <th>FUELCONSUMPTION_COMB_MPG</th>\n",
              "      <th>CO2EMISSIONS</th>\n",
              "    </tr>\n",
              "  </thead>\n",
              "  <tbody>\n",
              "    <tr>\n",
              "      <th>count</th>\n",
              "      <td>1067.0</td>\n",
              "      <td>1067.000000</td>\n",
              "      <td>1067.000000</td>\n",
              "      <td>1067.000000</td>\n",
              "      <td>1067.000000</td>\n",
              "      <td>1067.000000</td>\n",
              "      <td>1067.000000</td>\n",
              "      <td>1067.000000</td>\n",
              "    </tr>\n",
              "    <tr>\n",
              "      <th>mean</th>\n",
              "      <td>2014.0</td>\n",
              "      <td>3.346298</td>\n",
              "      <td>5.794752</td>\n",
              "      <td>13.296532</td>\n",
              "      <td>9.474602</td>\n",
              "      <td>11.580881</td>\n",
              "      <td>26.441425</td>\n",
              "      <td>256.228679</td>\n",
              "    </tr>\n",
              "    <tr>\n",
              "      <th>std</th>\n",
              "      <td>0.0</td>\n",
              "      <td>1.415895</td>\n",
              "      <td>1.797447</td>\n",
              "      <td>4.101253</td>\n",
              "      <td>2.794510</td>\n",
              "      <td>3.485595</td>\n",
              "      <td>7.468702</td>\n",
              "      <td>63.372304</td>\n",
              "    </tr>\n",
              "    <tr>\n",
              "      <th>min</th>\n",
              "      <td>2014.0</td>\n",
              "      <td>1.000000</td>\n",
              "      <td>3.000000</td>\n",
              "      <td>4.600000</td>\n",
              "      <td>4.900000</td>\n",
              "      <td>4.700000</td>\n",
              "      <td>11.000000</td>\n",
              "      <td>108.000000</td>\n",
              "    </tr>\n",
              "    <tr>\n",
              "      <th>25%</th>\n",
              "      <td>2014.0</td>\n",
              "      <td>2.000000</td>\n",
              "      <td>4.000000</td>\n",
              "      <td>10.250000</td>\n",
              "      <td>7.500000</td>\n",
              "      <td>9.000000</td>\n",
              "      <td>21.000000</td>\n",
              "      <td>207.000000</td>\n",
              "    </tr>\n",
              "    <tr>\n",
              "      <th>50%</th>\n",
              "      <td>2014.0</td>\n",
              "      <td>3.400000</td>\n",
              "      <td>6.000000</td>\n",
              "      <td>12.600000</td>\n",
              "      <td>8.800000</td>\n",
              "      <td>10.900000</td>\n",
              "      <td>26.000000</td>\n",
              "      <td>251.000000</td>\n",
              "    </tr>\n",
              "    <tr>\n",
              "      <th>75%</th>\n",
              "      <td>2014.0</td>\n",
              "      <td>4.300000</td>\n",
              "      <td>8.000000</td>\n",
              "      <td>15.550000</td>\n",
              "      <td>10.850000</td>\n",
              "      <td>13.350000</td>\n",
              "      <td>31.000000</td>\n",
              "      <td>294.000000</td>\n",
              "    </tr>\n",
              "    <tr>\n",
              "      <th>max</th>\n",
              "      <td>2014.0</td>\n",
              "      <td>8.400000</td>\n",
              "      <td>12.000000</td>\n",
              "      <td>30.200000</td>\n",
              "      <td>20.500000</td>\n",
              "      <td>25.800000</td>\n",
              "      <td>60.000000</td>\n",
              "      <td>488.000000</td>\n",
              "    </tr>\n",
              "  </tbody>\n",
              "</table>\n",
              "</div>"
            ],
            "text/plain": [
              "       MODELYEAR   ENGINESIZE  ...  FUELCONSUMPTION_COMB_MPG  CO2EMISSIONS\n",
              "count     1067.0  1067.000000  ...               1067.000000   1067.000000\n",
              "mean      2014.0     3.346298  ...                 26.441425    256.228679\n",
              "std          0.0     1.415895  ...                  7.468702     63.372304\n",
              "min       2014.0     1.000000  ...                 11.000000    108.000000\n",
              "25%       2014.0     2.000000  ...                 21.000000    207.000000\n",
              "50%       2014.0     3.400000  ...                 26.000000    251.000000\n",
              "75%       2014.0     4.300000  ...                 31.000000    294.000000\n",
              "max       2014.0     8.400000  ...                 60.000000    488.000000\n",
              "\n",
              "[8 rows x 8 columns]"
            ]
          },
          "metadata": {
            "tags": []
          },
          "execution_count": 4
        }
      ]
    },
    {
      "cell_type": "markdown",
      "metadata": {
        "id": "F-pc2Tv5utUR",
        "colab_type": "text"
      },
      "source": [
        "It's quite possible to understand the data from above, but when complex data form is given then visualization is the best way to understand briefly about the data."
      ]
    },
    {
      "cell_type": "markdown",
      "metadata": {
        "id": "QgEFKm2jvFkZ",
        "colab_type": "text"
      },
      "source": [
        ""
      ]
    },
    {
      "cell_type": "code",
      "metadata": {
        "id": "gQar11snvA01",
        "colab_type": "code",
        "outputId": "62700a5b-938d-406e-dfbb-ead76f3d5c82",
        "colab": {
          "base_uri": "https://localhost:8080/",
          "height": 298
        }
      },
      "source": [
        "var = data[['MODELYEAR','MAKE','ENGINESIZE','CYLINDERS','FUELCONSUMPTION_CITY','FUELCONSUMPTION_HWY','FUELCONSUMPTION_COMB','FUELCONSUMPTION_COMB_MPG','CO2EMISSIONS']]\n",
        "var.hist()\n",
        "plt.show\n"
      ],
      "execution_count": 0,
      "outputs": [
        {
          "output_type": "execute_result",
          "data": {
            "text/plain": [
              "<function matplotlib.pyplot.show>"
            ]
          },
          "metadata": {
            "tags": []
          },
          "execution_count": 6
        },
        {
          "output_type": "display_data",
          "data": {
            "image/png": "[encoded data removed]",
            "text/plain": [
              "<Figure size 432x288 with 9 Axes>"
            ]
          },
          "metadata": {
            "tags": [],
            "needs_background": "light"
          }
        }
      ]
    },
    {
      "cell_type": "markdown",
      "metadata": {
        "id": "gR-Jygc4vx68",
        "colab_type": "text"
      },
      "source": [
        "#Relationship between variables\n",
        "To create a model, finding relationship between variables is important. Generally, this is how you chose for independent variables. We will again use visualization to check this."
      ]
    },
    {
      "cell_type": "code",
      "metadata": {
        "id": "fImyWi69vstA",
        "colab_type": "code",
        "outputId": "a18825b7-1b7b-4443-ca19-9438fb2c68b3",
        "colab": {
          "base_uri": "https://localhost:8080/",
          "height": 298
        }
      },
      "source": [
        "# lets see the relationship of variables\n",
        "\n",
        "plt.scatter(data['FUELCONSUMPTION_COMB'], data['CO2EMISSIONS'],  color='blue')\n",
        "plt.xlabel(\"FUELCONSUMPTION_COMB\") #FUEL CONSUMPTION COMB (L/100 km)\n",
        "plt.ylabel(\"CO2EMISSIONS\")\n",
        "plt.show"
      ],
      "execution_count": 0,
      "outputs": [
        {
          "output_type": "execute_result",
          "data": {
            "text/plain": [
              "<function matplotlib.pyplot.show>"
            ]
          },
          "metadata": {
            "tags": []
          },
          "execution_count": 7
        },
        {
          "output_type": "display_data",
          "data": {
            "image/png": "[encoded data removed]",
            "text/plain": [
              "<Figure size 432x288 with 1 Axes>"
            ]
          },
          "metadata": {
            "tags": [],
            "needs_background": "light"
          }
        }
      ]
    },
    {
      "cell_type": "markdown",
      "metadata": {
        "id": "-5v79NSDwjDN",
        "colab_type": "text"
      },
      "source": [
        "**What do you find here?**"
      ]
    },
    {
      "cell_type": "code",
      "metadata": {
        "id": "XpIWbrRjwoF5",
        "colab_type": "code",
        "outputId": "fa312306-2d2a-4c44-cbce-aa6db7ab2124",
        "colab": {
          "base_uri": "https://localhost:8080/",
          "height": 297
        }
      },
      "source": [
        "#Check for another\n",
        "plt.scatter(data['ENGINESIZE'], data['CO2EMISSIONS'],  color='blue')\n",
        "plt.xlabel(\"ENGINESIZE\") #ENGINESIZE\n",
        "plt.ylabel(\"CO2EMISSIONS\")\n",
        "plt.show"
      ],
      "execution_count": 0,
      "outputs": [
        {
          "output_type": "execute_result",
          "data": {
            "text/plain": [
              "<function matplotlib.pyplot.show>"
            ]
          },
          "metadata": {
            "tags": []
          },
          "execution_count": 8
        },
        {
          "output_type": "display_data",
          "data": {
            "image/png": "[encoded data removed]",
            "text/plain": [
              "<Figure size 432x288 with 1 Axes>"
            ]
          },
          "metadata": {
            "tags": [],
            "needs_background": "light"
          }
        }
      ]
    },
    {
      "cell_type": "markdown",
      "metadata": {
        "id": "Z7TBMWfvw6C8",
        "colab_type": "text"
      },
      "source": [
        "**What do you see here?**"
      ]
    },
    {
      "cell_type": "markdown",
      "metadata": {
        "id": "nDsP8Etxw-ro",
        "colab_type": "text"
      },
      "source": [
        "In-class Assignmnet: \\\\\n",
        "Plot __CYLINDER__ vs the Emission, to check the relationship."
      ]
    },
    {
      "cell_type": "markdown",
      "metadata": {
        "id": "4MBh-TjDxn4x",
        "colab_type": "text"
      },
      "source": [
        "#### Splitting train and test dataset\n",
        "**80% : 20%**\n",
        "This involves splitting the dataset into training and testing sets respectively. After which, you train with the training set and test with the testing set. \n",
        "\n",
        " "
      ]
    },
    {
      "cell_type": "code",
      "metadata": {
        "id": "Q2PvAZH_x-Wo",
        "colab_type": "code",
        "colab": {}
      },
      "source": [
        "#using sklearn module\n",
        "import numpy as np\n",
        "from sklearn.model_selection import train_test_split\n",
        "\n",
        "#creating array of dependent and independent array\n",
        "#reshaping them in (-1,1) for passing the inputs onebyone.\n",
        "\n",
        "X=np.asarray(data['ENGINESIZE']).reshape(-1,1)\n",
        "Y=np.asarray(data['CO2EMISSIONS']).reshape(-1,1)\n",
        "#splitting the data\n",
        "X_train, X_test, y_train, y_test = train_test_split(X, Y, test_size=0.20, random_state=42)"
      ],
      "execution_count": 0,
      "outputs": []
    },
    {
      "cell_type": "markdown",
      "metadata": {
        "id": "lClCP9HWybuN",
        "colab_type": "text"
      },
      "source": [
        "**In-class activity:**\n",
        "Plot the training data distribution and testing data distribution plot separatly.\n",
        "Hint: Use relationship b/w variables plot"
      ]
    },
    {
      "cell_type": "code",
      "metadata": {
        "id": "qnYDBvVRyX82",
        "colab_type": "code",
        "colab": {}
      },
      "source": [
        "plt.scatter(fillhere, fillhere,  color='blue')\n",
        "plt.xlabel(\"Engine size\")\n",
        "plt.ylabel(\"Emission\")\n",
        "plt.show()"
      ],
      "execution_count": 0,
      "outputs": []
    },
    {
      "cell_type": "markdown",
      "metadata": {
        "id": "YIaPYGGOzNS1",
        "colab_type": "text"
      },
      "source": [
        "Now lets create the ML or Linear regression model using sklearn module. \\\\\n",
        "In training, the best line of fit is found. __Coefficient__ and __Intercept__ in the simple linear regression, are the parameters of the fit line.  The will used further for testing or prediction."
      ]
    },
    {
      "cell_type": "code",
      "metadata": {
        "id": "OUCBZjpczS68",
        "colab_type": "code",
        "outputId": "818024d3-96ec-409a-fe23-576086700bd9",
        "colab": {
          "base_uri": "https://localhost:8080/",
          "height": 52
        }
      },
      "source": [
        "# TRAINING\n",
        "from sklearn.linear_model import LinearRegression \n",
        "\n",
        "#Building the model/program as 'lm'\n",
        "lm = LinearRegression()\n",
        "lm.fit(X_train, y_train)  # creating the best line of fit\n",
        "\n",
        "# The coefficients\n",
        "print ('Coefficients: ', lm.coef_) # m \n",
        "print ('Intercept: ',lm.intercept_) # b"
      ],
      "execution_count": 0,
      "outputs": [
        {
          "output_type": "stream",
          "text": [
            "Coefficients:  [[38.99297872]]\n",
            "Intercept:  [126.28970217]\n"
          ],
          "name": "stdout"
        }
      ]
    },
    {
      "cell_type": "markdown",
      "metadata": {
        "id": "obwAHl9p0APP",
        "colab_type": "text"
      },
      "source": [
        "Let's plot the line of fit"
      ]
    },
    {
      "cell_type": "code",
      "metadata": {
        "id": "1PQOrjGs0Eww",
        "colab_type": "code",
        "outputId": "719be16a-3e4d-41ff-a0a0-ec0c8ea2a352",
        "colab": {
          "base_uri": "https://localhost:8080/",
          "height": 297
        }
      },
      "source": [
        "plt.scatter(data['ENGINESIZE'], data['CO2EMISSIONS'], color='blue')\n",
        "plt.plot(X_train, lm.coef_[0][0]*X_train + lm.intercept_[0], '-r') #'-r' means red\n",
        "plt.xlabel(\"Engine size\")\n",
        "plt.ylabel(\"Emission\")"
      ],
      "execution_count": 0,
      "outputs": [
        {
          "output_type": "execute_result",
          "data": {
            "text/plain": [
              "Text(0, 0.5, 'Emission')"
            ]
          },
          "metadata": {
            "tags": []
          },
          "execution_count": 15
        },
        {
          "output_type": "display_data",
          "data": {
            "image/png": "[encoded data removed]",
            "text/plain": [
              "<Figure size 432x288 with 1 Axes>"
            ]
          },
          "metadata": {
            "tags": [],
            "needs_background": "light"
          }
        }
      ]
    },
    {
      "cell_type": "markdown",
      "metadata": {
        "id": "pxLdVDTQ0oOx",
        "colab_type": "text"
      },
      "source": [
        "Alternate method to draw the line of fit is using seaborn plot"
      ]
    },
    {
      "cell_type": "code",
      "metadata": {
        "id": "FW7XPJ-J0gWl",
        "colab_type": "code",
        "outputId": "d9517b72-643b-41e7-9b5e-9a79e1334ffa",
        "colab": {
          "base_uri": "https://localhost:8080/",
          "height": 283
        }
      },
      "source": [
        "import seaborn as sns\n",
        "%matplotlib inline \n",
        "\n",
        "sns.regplot(x=X_train, y=y_train, data=data, line_kws={\"color\":\"r\",\"alpha\":0.7,\"lw\":5})\n",
        "#for ploting at origin\n",
        "plt.ylim(0,)"
      ],
      "execution_count": 0,
      "outputs": [
        {
          "output_type": "execute_result",
          "data": {
            "text/plain": [
              "(0.0, 506.9)"
            ]
          },
          "metadata": {
            "tags": []
          },
          "execution_count": 19
        },
        {
          "output_type": "display_data",
          "data": {
            "image/png": "[encoded data removed]",
            "text/plain": [
              "<Figure size 432x288 with 1 Axes>"
            ]
          },
          "metadata": {
            "tags": [],
            "needs_background": "light"
          }
        }
      ]
    },
    {
      "cell_type": "markdown",
      "metadata": {
        "id": "i87wfBbz2F71",
        "colab_type": "text"
      },
      "source": [
        "# Evaluation\n",
        "Error = actual - received \\\\\n",
        "\n",
        "we compare the actual values and predicted values to calculate the accuracy of a regression model. \\\\\n",
        "Evaluation metrics provide a key role in the development of a model, as it provides insight to areas that require improvement.\n",
        "\n",
        "There are different model evaluation metrics, lets use MSE here to calculate the accuracy of our model based on the test set: \\\\\n",
        "    **- Mean absolute error:** It is the mean of the absolute value of the errors. This is the easiest of the metrics to understand since it’s just average error. \\\\\n",
        "    **- Mean Squared Error (MSE):** Mean Squared Error (MSE) is the mean of the squared error. It’s more popular than Mean absolute error because the focus is geared more towards large errors. This is due to the squared term exponentially increasing larger errors in comparison to smaller ones. \\\\\n",
        "    **- Root Mean Squared Error (RMSE).** \\\\\n",
        "    **- R-squared** is not error, but is a popular metric for accuracy of your model. It represents how close the data are to the fitted regression line. The higher the R-squared, the better the model fits your data. \n",
        "    "
      ]
    },
    {
      "cell_type": "code",
      "metadata": {
        "id": "6bqvx3tV2ouq",
        "colab_type": "code",
        "outputId": "95f8613b-f020-4318-ebc7-57315690838e",
        "colab": {
          "base_uri": "https://localhost:8080/",
          "height": 70
        }
      },
      "source": [
        "# original = y_test\n",
        "# Received = Ynew_test\n",
        "\n",
        "from sklearn.metrics import r2_score\n",
        "\n",
        "Ynew_test = lm.predict(X_test)\n",
        "\n",
        "print(\"MSE: %.2f\" % np.mean((Ynew_test - y_test) ** 2))\n",
        "print(\"MAE: %.2f\" % np.mean(np.absolute(Ynew_test - y_test)))\n",
        "print(\"R2-score: %.2f\" % r2_score(Ynew_test, y_test) )"
      ],
      "execution_count": 0,
      "outputs": [
        {
          "output_type": "stream",
          "text": [
            "MSE: 985.94\n",
            "MAE: 24.10\n",
            "R2-score: 0.68\n"
          ],
          "name": "stdout"
        }
      ]
    },
    {
      "cell_type": "code",
      "metadata": {
        "id": "KyTXOYeg5VFM",
        "colab_type": "code",
        "outputId": "c9d6ea0a-dd4c-491a-8e22-68fad8203590",
        "colab": {
          "base_uri": "https://localhost:8080/",
          "height": 34
        }
      },
      "source": [
        "#Alternate method\n",
        "from sklearn.metrics import mean_squared_error\n",
        "#mean_squared_error(Y_true, Y_predict)\n",
        "mean_squared_error(y_test, Ynew_test)"
      ],
      "execution_count": 0,
      "outputs": [
        {
          "output_type": "execute_result",
          "data": {
            "text/plain": [
              "985.9381692274999"
            ]
          },
          "metadata": {
            "tags": []
          },
          "execution_count": 32
        }
      ]
    },
    {
      "cell_type": "code",
      "metadata": {
        "id": "8HDMCKlM3JmA",
        "colab_type": "code",
        "colab": {}
      },
      "source": [
        "#Outsample data: Unseen data\n",
        "X_out = np.asanyarray([[224], [421], [194], [321],[107]])"
      ],
      "execution_count": 0,
      "outputs": []
    },
    {
      "cell_type": "code",
      "metadata": {
        "id": "aniICl8L3vrl",
        "colab_type": "code",
        "outputId": "563e2edf-5d30-457e-b017-f5e581f0f284",
        "colab": {
          "base_uri": "https://localhost:8080/",
          "height": 105
        }
      },
      "source": [
        "Y_new_out = lm.predict(X_out)\n",
        "print(Y_new_out)"
      ],
      "execution_count": 0,
      "outputs": [
        {
          "output_type": "stream",
          "text": [
            "[[ 8860.71693645]\n",
            " [16542.33374516]\n",
            " [ 7690.92757471]\n",
            " [12643.03587272]\n",
            " [ 4298.53842569]]\n"
          ],
          "name": "stdout"
        }
      ]
    }
  ]
}