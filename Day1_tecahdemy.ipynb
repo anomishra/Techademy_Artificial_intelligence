{
  "nbformat": 4,
  "nbformat_minor": 0,
  "metadata": {
    "colab": {
      "name": "Day1_tecahdemy.ipynb",
      "provenance": [],
      "authorship_tag": "ABX9TyMsk9m3WtWygcVtWOI9Uq2P"
    },
    "kernelspec": {
      "name": "python3",
      "display_name": "Python 3"
    }
  },
  "cells": [
    {
      "cell_type": "code",
      "metadata": {
        "id": "irqabOK-QgPG",
        "colab_type": "code",
        "colab": {
          "base_uri": "https://localhost:8080/",
          "height": 34
        },
        "outputId": "c837956b-5dd9-467d-eacb-882380c42196"
      },
      "source": [
        "print(\"Techademy\")"
      ],
      "execution_count": 1,
      "outputs": [
        {
          "output_type": "stream",
          "text": [
            "Techademy\n"
          ],
          "name": "stdout"
        }
      ]
    },
    {
      "cell_type": "markdown",
      "metadata": {
        "id": "yLi-DDy8RM2P",
        "colab_type": "text"
      },
      "source": [
        "Hey, I printed Techademy"
      ]
    }
  ]
}