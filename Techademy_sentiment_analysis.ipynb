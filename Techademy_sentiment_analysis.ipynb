{
  "nbformat": 4,
  "nbformat_minor": 0,
  "metadata": {
    "colab": {
      "name": "Techademy_sentiment_analysis.ipynb",
      "provenance": [],
      "collapsed_sections": [],
      "authorship_tag": "ABX9TyO/sJ69CMuGon8l97kM5gvH",
      "include_colab_link": true
    },
    "kernelspec": {
      "name": "python3",
      "display_name": "Python 3"
    }
  },
  "cells": [
    {
      "cell_type": "markdown",
      "metadata": {
        "id": "view-in-github",
        "colab_type": "text"
      },
      "source": [
        "<a href=\"https://colab.research.google.com/github/anomishra/Techademy_Artificial_intelligence/blob/master/Techademy_sentiment_analysis.ipynb\" target=\"_parent\"><img src=\"https://colab.research.google.com/assets/colab-badge.svg\" alt=\"Open In Colab\"/></a>"
      ]
    },
    {
      "cell_type": "code",
      "metadata": {
        "id": "6atnJ3FZCr8o",
        "colab_type": "code",
        "colab": {}
      },
      "source": [
        "from sklearn.model_selection import train_test_split\n",
        "import pandas as pd\n",
        "import numpy as np\n",
        "from sklearn.utils import shuffle\n",
        "import nltk"
      ],
      "execution_count": 0,
      "outputs": []
    },
    {
      "cell_type": "code",
      "metadata": {
        "id": "Baj91XXoDLLY",
        "colab_type": "code",
        "colab": {
          "base_uri": "https://localhost:8080/",
          "height": 51
        },
        "outputId": "8b6c4df2-973f-44db-fbae-ec806f99626f"
      },
      "source": [
        "nltk.download('vader_lexicon')"
      ],
      "execution_count": 2,
      "outputs": [
        {
          "output_type": "stream",
          "text": [
            "[nltk_data] Downloading package vader_lexicon to /root/nltk_data...\n"
          ],
          "name": "stdout"
        },
        {
          "output_type": "execute_result",
          "data": {
            "text/plain": [
              "True"
            ]
          },
          "metadata": {
            "tags": []
          },
          "execution_count": 2
        }
      ]
    },
    {
      "cell_type": "code",
      "metadata": {
        "id": "IBFT3VjpEAsb",
        "colab_type": "code",
        "colab": {}
      },
      "source": [
        "data_df = pd.read_csv('techademy.csv')\n",
        "headers = [\"Reviews\" ]\n",
        "data_df.columns = headers"
      ],
      "execution_count": 0,
      "outputs": []
    },
    {
      "cell_type": "code",
      "metadata": {
        "id": "Ymbmh0kYEqzh",
        "colab_type": "code",
        "colab": {
          "base_uri": "https://localhost:8080/",
          "height": 790
        },
        "outputId": "5d90778b-5ac5-4afe-bc69-aba0dcb323fe"
      },
      "source": [
        "data_df"
      ],
      "execution_count": 15,
      "outputs": [
        {
          "output_type": "execute_result",
          "data": {
            "text/html": [
              "<div>\n",
              "<style scoped>\n",
              "    .dataframe tbody tr th:only-of-type {\n",
              "        vertical-align: middle;\n",
              "    }\n",
              "\n",
              "    .dataframe tbody tr th {\n",
              "        vertical-align: top;\n",
              "    }\n",
              "\n",
              "    .dataframe thead th {\n",
              "        text-align: right;\n",
              "    }\n",
              "</style>\n",
              "<table border=\"1\" class=\"dataframe\">\n",
              "  <thead>\n",
              "    <tr style=\"text-align: right;\">\n",
              "      <th></th>\n",
              "      <th>Reviews</th>\n",
              "    </tr>\n",
              "  </thead>\n",
              "  <tbody>\n",
              "    <tr>\n",
              "      <th>0</th>\n",
              "      <td>During the padyatra in Kalkaji on the last day...</td>\n",
              "    </tr>\n",
              "    <tr>\n",
              "      <th>1</th>\n",
              "      <td># NewProfilePicpic.twitter.com/uXXFE1hPsv</td>\n",
              "    </tr>\n",
              "    <tr>\n",
              "      <th>2</th>\n",
              "      <td>Today at the road show of Kalkaji, popular MP ...</td>\n",
              "    </tr>\n",
              "    <tr>\n",
              "      <th>3</th>\n",
              "      <td>Today, during the road show in Kalkaji Vidhan ...</td>\n",
              "    </tr>\n",
              "    <tr>\n",
              "      <th>4</th>\n",
              "      <td>BJP plans to fight elections without a CM face...</td>\n",
              "    </tr>\n",
              "    <tr>\n",
              "      <th>5</th>\n",
              "      <td>48 hours left before elections and the BJP dir...</td>\n",
              "    </tr>\n",
              "    <tr>\n",
              "      <th>6</th>\n",
              "      <td>Today I went to the Kalkaji temple and took th...</td>\n",
              "    </tr>\n",
              "    <tr>\n",
              "      <th>7</th>\n",
              "      <td>AAP in the last 5 years has relentlessly fough...</td>\n",
              "    </tr>\n",
              "    <tr>\n",
              "      <th>8</th>\n",
              "      <td>Went door to door in Kalkaji this morning with...</td>\n",
              "    </tr>\n",
              "    <tr>\n",
              "      <th>9</th>\n",
              "      <td>I have achieved my fundraising target in just ...</td>\n",
              "    </tr>\n",
              "    <tr>\n",
              "      <th>10</th>\n",
              "      <td>On this Martyr’s Day, I’d like to pay my tribu...</td>\n",
              "    </tr>\n",
              "    <tr>\n",
              "      <th>11</th>\n",
              "      <td>Happy Basant Panchami to all the people of Del...</td>\n",
              "    </tr>\n",
              "    <tr>\n",
              "      <th>12</th>\n",
              "      <td>BJP's MPs showed a Delhi Govt school structure...</td>\n",
              "    </tr>\n",
              "    <tr>\n",
              "      <th>13</th>\n",
              "      <td>Arvind Kejriwal worked in the fields of educat...</td>\n",
              "    </tr>\n",
              "    <tr>\n",
              "      <th>14</th>\n",
              "      <td>@ AamAadmiParty govt have made primary healthc...</td>\n",
              "    </tr>\n",
              "    <tr>\n",
              "      <th>15</th>\n",
              "      <td>Women Empowerment is one of the key priorities...</td>\n",
              "    </tr>\n",
              "    <tr>\n",
              "      <th>16</th>\n",
              "      <td>@ ArvindKejriwal’s Delhi Govt. transformed the...</td>\n",
              "    </tr>\n",
              "    <tr>\n",
              "      <th>17</th>\n",
              "      <td>Happy Republic Day to all of you. # RepublicDa...</td>\n",
              "    </tr>\n",
              "    <tr>\n",
              "      <th>18</th>\n",
              "      <td>It is absolutely heartwarming to hear what the...</td>\n",
              "    </tr>\n",
              "    <tr>\n",
              "      <th>19</th>\n",
              "      <td>@ AamAadmiParty’s focus has always been on wor...</td>\n",
              "    </tr>\n",
              "    <tr>\n",
              "      <th>20</th>\n",
              "      <td>Sure. Will plan a visit. Pls share your contac...</td>\n",
              "    </tr>\n",
              "    <tr>\n",
              "      <th>21</th>\n",
              "      <td>“Education is one thing no one can take away f...</td>\n",
              "    </tr>\n",
              "    <tr>\n",
              "      <th>22</th>\n",
              "      <td>I am very happy to see the support and coopera...</td>\n",
              "    </tr>\n",
              "    <tr>\n",
              "      <th>23</th>\n",
              "      <td>Thank you everyone for your generous contribut...</td>\n",
              "    </tr>\n",
              "  </tbody>\n",
              "</table>\n",
              "</div>"
            ],
            "text/plain": [
              "                                              Reviews\n",
              "0   During the padyatra in Kalkaji on the last day...\n",
              "1           # NewProfilePicpic.twitter.com/uXXFE1hPsv\n",
              "2   Today at the road show of Kalkaji, popular MP ...\n",
              "3   Today, during the road show in Kalkaji Vidhan ...\n",
              "4   BJP plans to fight elections without a CM face...\n",
              "5   48 hours left before elections and the BJP dir...\n",
              "6   Today I went to the Kalkaji temple and took th...\n",
              "7   AAP in the last 5 years has relentlessly fough...\n",
              "8   Went door to door in Kalkaji this morning with...\n",
              "9   I have achieved my fundraising target in just ...\n",
              "10  On this Martyr’s Day, I’d like to pay my tribu...\n",
              "11  Happy Basant Panchami to all the people of Del...\n",
              "12  BJP's MPs showed a Delhi Govt school structure...\n",
              "13  Arvind Kejriwal worked in the fields of educat...\n",
              "14  @ AamAadmiParty govt have made primary healthc...\n",
              "15  Women Empowerment is one of the key priorities...\n",
              "16  @ ArvindKejriwal’s Delhi Govt. transformed the...\n",
              "17  Happy Republic Day to all of you. # RepublicDa...\n",
              "18  It is absolutely heartwarming to hear what the...\n",
              "19  @ AamAadmiParty’s focus has always been on wor...\n",
              "20  Sure. Will plan a visit. Pls share your contac...\n",
              "21  “Education is one thing no one can take away f...\n",
              "22  I am very happy to see the support and coopera...\n",
              "23  Thank you everyone for your generous contribut..."
            ]
          },
          "metadata": {
            "tags": []
          },
          "execution_count": 15
        }
      ]
    },
    {
      "cell_type": "code",
      "metadata": {
        "id": "-05oO1PNgxGA",
        "colab_type": "code",
        "colab": {
          "base_uri": "https://localhost:8080/",
          "height": 34
        },
        "outputId": "756c5234-6aac-4ad2-ab75-e0ea7cefbcec"
      },
      "source": [
        "data_df.Reviews[11]\n",
        "\n",
        "# Sentimental analysis calculates one of the three moods for a sentence:\n",
        "#1. postive\n",
        "#2. negative\n",
        "#3. neutral"
      ],
      "execution_count": 31,
      "outputs": [
        {
          "output_type": "execute_result",
          "data": {
            "text/plain": [
              "'Happy Basant Panchami to all the people of Delhi. Pic.twitter.com/nTlXBGxWJZ'"
            ]
          },
          "metadata": {
            "tags": []
          },
          "execution_count": 31
        }
      ]
    },
    {
      "cell_type": "code",
      "metadata": {
        "id": "Wl8j6XHDFNc1",
        "colab_type": "code",
        "colab": {
          "base_uri": "https://localhost:8080/",
          "height": 448
        },
        "outputId": "58f542b4-7711-46aa-fdca-18660d37f3b9"
      },
      "source": [
        "data_df.count"
      ],
      "execution_count": 19,
      "outputs": [
        {
          "output_type": "execute_result",
          "data": {
            "text/plain": [
              "<bound method DataFrame.count of                                               Reviews\n",
              "0   During the padyatra in Kalkaji on the last day...\n",
              "1           # NewProfilePicpic.twitter.com/uXXFE1hPsv\n",
              "2   Today at the road show of Kalkaji, popular MP ...\n",
              "3   Today, during the road show in Kalkaji Vidhan ...\n",
              "4   BJP plans to fight elections without a CM face...\n",
              "5   48 hours left before elections and the BJP dir...\n",
              "6   Today I went to the Kalkaji temple and took th...\n",
              "7   AAP in the last 5 years has relentlessly fough...\n",
              "8   Went door to door in Kalkaji this morning with...\n",
              "9   I have achieved my fundraising target in just ...\n",
              "10  On this Martyr’s Day, I’d like to pay my tribu...\n",
              "11  Happy Basant Panchami to all the people of Del...\n",
              "12  BJP's MPs showed a Delhi Govt school structure...\n",
              "13  Arvind Kejriwal worked in the fields of educat...\n",
              "14  @ AamAadmiParty govt have made primary healthc...\n",
              "15  Women Empowerment is one of the key priorities...\n",
              "16  @ ArvindKejriwal’s Delhi Govt. transformed the...\n",
              "17  Happy Republic Day to all of you. # RepublicDa...\n",
              "18  It is absolutely heartwarming to hear what the...\n",
              "19  @ AamAadmiParty’s focus has always been on wor...\n",
              "20  Sure. Will plan a visit. Pls share your contac...\n",
              "21  “Education is one thing no one can take away f...\n",
              "22  I am very happy to see the support and coopera...\n",
              "23  Thank you everyone for your generous contribut...>"
            ]
          },
          "metadata": {
            "tags": []
          },
          "execution_count": 19
        }
      ]
    },
    {
      "cell_type": "code",
      "metadata": {
        "id": "SSTqGjleE9Ki",
        "colab_type": "code",
        "colab": {}
      },
      "source": [
        "all_reviews = data_df['Reviews']\n",
        "all_sent_values = []\n",
        "all_sentiments = []"
      ],
      "execution_count": 0,
      "outputs": []
    },
    {
      "cell_type": "code",
      "metadata": {
        "id": "NlI1PsLYDQOU",
        "colab_type": "code",
        "colab": {
          "base_uri": "https://localhost:8080/",
          "height": 71
        },
        "outputId": "653ffc00-a355-4ebc-c772-d207efdb467a"
      },
      "source": [
        "from nltk.sentiment.vader import SentimentIntensityAnalyzer\n",
        "def sentiment_value(paragraph):\n",
        "    analyser = SentimentIntensityAnalyzer()\n",
        "    result = analyser.polarity_scores(paragraph)\n",
        "    score = result['compound']\n",
        "    return round(score,1)"
      ],
      "execution_count": 3,
      "outputs": [
        {
          "output_type": "stream",
          "text": [
            "/usr/local/lib/python3.6/dist-packages/nltk/twitter/__init__.py:20: UserWarning: The twython library has not been installed. Some functionality from the twitter package will not be available.\n",
            "  warnings.warn(\"The twython library has not been installed. \"\n"
          ],
          "name": "stderr"
        }
      ]
    },
    {
      "cell_type": "code",
      "metadata": {
        "id": "BLJ969t7E-BV",
        "colab_type": "code",
        "colab": {
          "base_uri": "https://localhost:8080/",
          "height": 68
        },
        "outputId": "654f66e9-9f50-4816-b580-2b21571a6247"
      },
      "source": [
        "sample = data_df['Reviews'][11]\n",
        "\n",
        "print(sample)\n",
        "print('Sentiment: ')\n",
        "print(sentiment_value(sample))"
      ],
      "execution_count": 17,
      "outputs": [
        {
          "output_type": "stream",
          "text": [
            "Happy Basant Panchami to all the people of Delhi. Pic.twitter.com/nTlXBGxWJZ\n",
            "Sentiment: \n",
            "0.6\n"
          ],
          "name": "stdout"
        }
      ]
    },
    {
      "cell_type": "code",
      "metadata": {
        "id": "JCvhiliaFUCM",
        "colab_type": "code",
        "colab": {}
      },
      "source": [
        "for i in range(0,23):\n",
        "    all_sent_values.append(sentiment_value(all_reviews[i]))"
      ],
      "execution_count": 0,
      "outputs": []
    },
    {
      "cell_type": "code",
      "metadata": {
        "id": "jmdRM6uBFaYg",
        "colab_type": "code",
        "colab": {}
      },
      "source": [
        "SENTIMENT_VALUE = []\n",
        "SENTIMENT = []\n",
        "for i in range(0,23):\n",
        "    sent = all_sent_values[i]\n",
        "    if (sent<=1 and sent>=0.5):\n",
        "        SENTIMENT.append('V.Positive')\n",
        "        SENTIMENT_VALUE.append(5)\n",
        "    elif (sent<0.5 and sent>0):\n",
        "        SENTIMENT.append('Positive')\n",
        "        SENTIMENT_VALUE.append(4)\n",
        "    elif (sent==0):\n",
        "        SENTIMENT.append('Neutral')\n",
        "        SENTIMENT_VALUE.append(3)\n",
        "    elif (sent<0 and sent>=-0.5):\n",
        "        SENTIMENT.append('Negative')\n",
        "        SENTIMENT_VALUE.append(2)\n",
        "    else:\n",
        "        SENTIMENT.append('V.Negative')\n",
        "        SENTIMENT_VALUE.append(1)"
      ],
      "execution_count": 0,
      "outputs": []
    },
    {
      "cell_type": "code",
      "metadata": {
        "id": "6IDt8JKlFmmg",
        "colab_type": "code",
        "colab": {}
      },
      "source": [
        "#Sentiment Analysis on first 1000 rows\n",
        "temp_data = data_df[0:23]"
      ],
      "execution_count": 0,
      "outputs": []
    },
    {
      "cell_type": "code",
      "metadata": {
        "id": "E-82hQFGFjx_",
        "colab_type": "code",
        "colab": {
          "base_uri": "https://localhost:8080/",
          "height": 224
        },
        "outputId": "cbd24684-748c-4869-b5d3-a49274a697f0"
      },
      "source": [
        "temp_data['SENTIMENT_VALUE'] = SENTIMENT_VALUE\n",
        "temp_data['SENTIMENT'] = SENTIMENT"
      ],
      "execution_count": 25,
      "outputs": [
        {
          "output_type": "stream",
          "text": [
            "/usr/local/lib/python3.6/dist-packages/ipykernel_launcher.py:1: SettingWithCopyWarning: \n",
            "A value is trying to be set on a copy of a slice from a DataFrame.\n",
            "Try using .loc[row_indexer,col_indexer] = value instead\n",
            "\n",
            "See the caveats in the documentation: https://pandas.pydata.org/pandas-docs/stable/user_guide/indexing.html#returning-a-view-versus-a-copy\n",
            "  \"\"\"Entry point for launching an IPython kernel.\n",
            "/usr/local/lib/python3.6/dist-packages/ipykernel_launcher.py:2: SettingWithCopyWarning: \n",
            "A value is trying to be set on a copy of a slice from a DataFrame.\n",
            "Try using .loc[row_indexer,col_indexer] = value instead\n",
            "\n",
            "See the caveats in the documentation: https://pandas.pydata.org/pandas-docs/stable/user_guide/indexing.html#returning-a-view-versus-a-copy\n",
            "  \n"
          ],
          "name": "stderr"
        }
      ]
    },
    {
      "cell_type": "code",
      "metadata": {
        "id": "PkSierUfFqV4",
        "colab_type": "code",
        "colab": {
          "base_uri": "https://localhost:8080/",
          "height": 203
        },
        "outputId": "b4a75619-bc3e-4c01-a665-1fa150dacc95"
      },
      "source": [
        "temp_data.head()"
      ],
      "execution_count": 26,
      "outputs": [
        {
          "output_type": "execute_result",
          "data": {
            "text/html": [
              "<div>\n",
              "<style scoped>\n",
              "    .dataframe tbody tr th:only-of-type {\n",
              "        vertical-align: middle;\n",
              "    }\n",
              "\n",
              "    .dataframe tbody tr th {\n",
              "        vertical-align: top;\n",
              "    }\n",
              "\n",
              "    .dataframe thead th {\n",
              "        text-align: right;\n",
              "    }\n",
              "</style>\n",
              "<table border=\"1\" class=\"dataframe\">\n",
              "  <thead>\n",
              "    <tr style=\"text-align: right;\">\n",
              "      <th></th>\n",
              "      <th>Reviews</th>\n",
              "      <th>SENTIMENT_VALUE</th>\n",
              "      <th>SENTIMENT</th>\n",
              "    </tr>\n",
              "  </thead>\n",
              "  <tbody>\n",
              "    <tr>\n",
              "      <th>0</th>\n",
              "      <td>During the padyatra in Kalkaji on the last day...</td>\n",
              "      <td>5</td>\n",
              "      <td>V.Positive</td>\n",
              "    </tr>\n",
              "    <tr>\n",
              "      <th>1</th>\n",
              "      <td># NewProfilePicpic.twitter.com/uXXFE1hPsv</td>\n",
              "      <td>3</td>\n",
              "      <td>Neutral</td>\n",
              "    </tr>\n",
              "    <tr>\n",
              "      <th>2</th>\n",
              "      <td>Today at the road show of Kalkaji, popular MP ...</td>\n",
              "      <td>5</td>\n",
              "      <td>V.Positive</td>\n",
              "    </tr>\n",
              "    <tr>\n",
              "      <th>3</th>\n",
              "      <td>Today, during the road show in Kalkaji Vidhan ...</td>\n",
              "      <td>5</td>\n",
              "      <td>V.Positive</td>\n",
              "    </tr>\n",
              "    <tr>\n",
              "      <th>4</th>\n",
              "      <td>BJP plans to fight elections without a CM face...</td>\n",
              "      <td>2</td>\n",
              "      <td>Negative</td>\n",
              "    </tr>\n",
              "  </tbody>\n",
              "</table>\n",
              "</div>"
            ],
            "text/plain": [
              "                                             Reviews  ...   SENTIMENT\n",
              "0  During the padyatra in Kalkaji on the last day...  ...  V.Positive\n",
              "1          # NewProfilePicpic.twitter.com/uXXFE1hPsv  ...     Neutral\n",
              "2  Today at the road show of Kalkaji, popular MP ...  ...  V.Positive\n",
              "3  Today, during the road show in Kalkaji Vidhan ...  ...  V.Positive\n",
              "4  BJP plans to fight elections without a CM face...  ...    Negative\n",
              "\n",
              "[5 rows x 3 columns]"
            ]
          },
          "metadata": {
            "tags": []
          },
          "execution_count": 26
        }
      ]
    },
    {
      "cell_type": "code",
      "metadata": {
        "id": "RUN7Buo_Fu19",
        "colab_type": "code",
        "colab": {
          "base_uri": "https://localhost:8080/",
          "height": 312
        },
        "outputId": "b8712e26-fb41-4af7-e364-2fa70a3ec8fa"
      },
      "source": [
        "%matplotlib inline\n",
        "import matplotlib as plt\n",
        "from matplotlib import pyplot\n",
        "\n",
        "a = (0,1,2)\n",
        "\n",
        "# draw historgram of attribute \"horsepower\" with bins = 3\n",
        "plt.pyplot.hist(temp_data[\"SENTIMENT\"], bins = 5)\n",
        "\n",
        "# set x/y labels and plot title\n",
        "plt.pyplot.xlabel(\"SENTIMENT\")\n",
        "plt.pyplot.ylabel(\"count\")\n",
        "plt.pyplot.title(\"SENTIMENT bins\")"
      ],
      "execution_count": 28,
      "outputs": [
        {
          "output_type": "execute_result",
          "data": {
            "text/plain": [
              "Text(0.5, 1.0, 'SENTIMENT bins')"
            ]
          },
          "metadata": {
            "tags": []
          },
          "execution_count": 28
        },
        {
          "output_type": "display_data",
          "data": {
            "image/png": "[encoded data removed]",
            "text/plain": [
              "<Figure size 432x288 with 1 Axes>"
            ]
          },
          "metadata": {
            "tags": [],
            "needs_background": "light"
          }
        }
      ]
    }
  ]
}