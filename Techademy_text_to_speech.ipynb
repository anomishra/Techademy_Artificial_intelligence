{
  "nbformat": 4,
  "nbformat_minor": 0,
  "metadata": {
    "colab": {
      "name": "Techademy_text_to_speech.ipynb",
      "provenance": [],
      "collapsed_sections": [],
      "authorship_tag": "ABX9TyO5DVvh9y4ciEhgPnwyr60w",
      "include_colab_link": true
    },
    "kernelspec": {
      "name": "python3",
      "display_name": "Python 3"
    }
  },
  "cells": [
    {
      "cell_type": "markdown",
      "metadata": {
        "id": "view-in-github",
        "colab_type": "text"
      },
      "source": [
        "<a href=\"https://colab.research.google.com/github/anomishra/Techademy_Artificial_intelligence/blob/master/Techademy_text_to_speech.ipynb\" target=\"_parent\"><img src=\"https://colab.research.google.com/assets/colab-badge.svg\" alt=\"Open In Colab\"/></a>"
      ]
    },
    {
      "cell_type": "markdown",
      "metadata": {
        "id": "oUmSYufwAy0L",
        "colab_type": "text"
      },
      "source": [
        "##Text-to-Speech##"
      ]
    },
    {
      "cell_type": "code",
      "metadata": {
        "id": "6RRjpmwY-lVl",
        "colab_type": "code",
        "colab": {}
      },
      "source": [
        "!pip install gTTS"
      ],
      "execution_count": 0,
      "outputs": []
    },
    {
      "cell_type": "code",
      "metadata": {
        "id": "XP4y_POJ-ov3",
        "colab_type": "code",
        "colab": {}
      },
      "source": [
        "# Import the required module for text  \n",
        "# to speech conversion \n",
        "from gtts import gTTS \n",
        "  \n",
        "# This module is imported so that we can  \n",
        "# play the converted audio \n",
        "import os \n",
        "  \n",
        "# The text that you want to convert to audio \n",
        "mytext = 'We are in techademy artificial intelligence class!'\n",
        "  \n",
        "# Language in which you want to convert \n",
        "language = 'en'\n",
        "  \n",
        "# Passing the text and language to the engine,  \n",
        "# here we have marked slow=False. Which tells  \n",
        "# the module that the converted audio should  \n",
        "# have a high speed \n",
        "\n",
        "myaudio = gTTS(text=mytext, lang=language, slow=False) \n",
        "  \n",
        "# Saving the converted audio in a mp3 file named \n",
        "# welcome  \n",
        "myaudio.save(\"techademy_1.mp3\") \n",
        "  "
      ],
      "execution_count": 0,
      "outputs": []
    },
    {
      "cell_type": "markdown",
      "metadata": {
        "id": "seiAwWSe_ohu",
        "colab_type": "text"
      },
      "source": [
        "If you want to try with different voice changeovers:\n",
        "https://www.geeksforgeeks.org/text-to-speech-changing-voice-in-python/?ref=rp </br>\n",
        "\n",
        "Personal Assistant program in python using google cloud:\n",
        "https://www.geeksforgeeks.org/personal-voice-assistant-in-python/?ref=rp"
      ]
    },
    {
      "cell_type": "markdown",
      "metadata": {
        "id": "zwaFfOtgArpA",
        "colab_type": "text"
      },
      "source": [
        "##Speech-to-Text##"
      ]
    },
    {
      "cell_type": "code",
      "metadata": {
        "id": "x2qylVNDA4sX",
        "colab_type": "code",
        "colab": {
          "base_uri": "https://localhost:8080/",
          "height": 34
        },
        "outputId": "c623d716-63bb-4264-b6fa-22ccf197d251"
      },
      "source": [
        "!pip install SpeechRecognition "
      ],
      "execution_count": 33,
      "outputs": [
        {
          "output_type": "stream",
          "text": [
            "Requirement already satisfied: SpeechRecognition in /usr/local/lib/python3.6/dist-packages (3.8.1)\n"
          ],
          "name": "stdout"
        }
      ]
    },
    {
      "cell_type": "code",
      "metadata": {
        "id": "YiGEH-yGAZP7",
        "colab_type": "code",
        "colab": {
          "base_uri": "https://localhost:8080/",
          "height": 51
        },
        "outputId": "c9889ddd-64a3-4916-e2e1-cd28ff572d16"
      },
      "source": [
        "#import library\n",
        "import speech_recognition as sr\n",
        "\n",
        "#recognizer class\n",
        "r = sr.Recognizer()\n",
        "\n",
        "# Reading Audio file as source\n",
        "with sr.AudioFile('maybe-next-time-huh.wav') as source:\n",
        "    audio_text = r.listen(source)\n",
        "\n",
        "# exception handling\n",
        "    try:\n",
        "        \n",
        "        # using google speech recognition\n",
        "        text = r.recognize_google(audio_text)\n",
        "        print('Converting audio transcripts into text ...')\n",
        "        print(\"The final audio-to-text is: \",text)\n",
        "     \n",
        "    except:\n",
        "         print('Sorry.. run again...')"
      ],
      "execution_count": 34,
      "outputs": [
        {
          "output_type": "stream",
          "text": [
            "Converting audio transcripts into text ...\n",
            "The final audio-to-text is:  maybe next time\n"
          ],
          "name": "stdout"
        }
      ]
    },
    {
      "cell_type": "code",
      "metadata": {
        "id": "e9Dd3forBI8H",
        "colab_type": "code",
        "colab": {
          "base_uri": "https://localhost:8080/",
          "height": 51
        },
        "outputId": "22d2ec94-d35b-4212-80ec-429d9eb01eb7"
      },
      "source": [
        "with sr.AudioFile('maybe-next-time-huh.wav') as source:\n",
        "    \n",
        "    audio_text = r.listen(source)\n",
        "    \n",
        "# recoginize_() method will throw a request error if the API is unreachable, hence using exception handling\n",
        "    try:\n",
        "        \n",
        "        # using google speech recognition\n",
        "        #Adding hindi langauge option\n",
        "        text = r.recognize_google(audio_text, language = 'hi') #hindi\n",
        "        print('Converting audio transcripts into text ...')\n",
        "        print(\"The converted text is: \", text)\n",
        "     \n",
        "    except:\n",
        "         print('Sorry.. run again...')"
      ],
      "execution_count": 30,
      "outputs": [
        {
          "output_type": "stream",
          "text": [
            "Converting audio transcripts into text ...\n",
            "नेक्स्ट\n"
          ],
          "name": "stdout"
        }
      ]
    },
    {
      "cell_type": "markdown",
      "metadata": {
        "id": "ByzNIUhRBlCR",
        "colab_type": "text"
      },
      "source": [
        "## Speak-to-Microphone and convert to text "
      ]
    },
    {
      "cell_type": "code",
      "metadata": {
        "id": "3Si0HrfmBcKj",
        "colab_type": "code",
        "colab": {}
      },
      "source": [
        "!pip install PyAudio"
      ],
      "execution_count": 0,
      "outputs": []
    },
    {
      "cell_type": "code",
      "metadata": {
        "id": "_317UsWtBkVs",
        "colab_type": "code",
        "colab": {}
      },
      "source": [
        "#import library\n",
        "\n",
        "import speech_recognition as sr\n",
        "\n",
        "# Initialize recognizer class (for recognizing the speech)\n",
        "\n",
        "r = sr.Recognizer()\n",
        "\n",
        "# Reading Microphone as source\n",
        "# listening the speech and store in audio_text variable\n",
        "\n",
        "with sr.Microphone() as source:\n",
        "    print(\"Talk\")\n",
        "    audio_text = r.listen(source)\n",
        "    print(\"Time over, thanks\")\n",
        "# recoginize_() method will throw a request error if the API is unreachable, hence using exception handling\n",
        "    \n",
        "    try:\n",
        "        # using google speech recognition\n",
        "        print(\"Text: \"+r.recognize_google(audio_text))\n",
        "    except:\n",
        "         print(\"Sorry, I did not get that\")"
      ],
      "execution_count": 0,
      "outputs": []
    }
  ]
}